{
 "cells": [
  {
   "cell_type": "code",
   "execution_count": 15,
   "metadata": {},
   "outputs": [],
   "source": [
    "import pandas as pd\n",
    "from selenium import webdriver\n",
    "import time\n",
    "from selenium.webdriver.common.keys import Keys"
   ]
  },
  {
   "cell_type": "code",
   "execution_count": 16,
   "metadata": {},
   "outputs": [],
   "source": [
    "products=['laptops', 'Phones', 'Headphones', 'smart watches', 'Cameras', 'Printers', 'monitors', 'Home theater', 'router']"
   ]
  },
  {
   "cell_type": "code",
   "execution_count": 17,
   "metadata": {},
   "outputs": [],
   "source": [
    "driver=webdriver.Chrome(\"D:\\chromedriver_win32 (1)\\chromedriver.exe\")\n",
    "driver.get('https://www.amazon.in/')\n",
    "amazon_urls=[]\n",
    "for product in products:\n",
    "    driver.find_element_by_xpath('//input[@id=\"twotabsearchtextbox\"]').send_keys(product)\n",
    "    driver.find_element_by_xpath('//input[@id=\"nav-search-submit-button\"]').click()\n",
    "    j=0\n",
    "    urls=[]\n",
    "    url_tags=[]\n",
    "    while j<11:\n",
    "        time.sleep(2)\n",
    "        url_tags=driver.find_elements_by_xpath('//a[@class=\"a-link-normal a-text-normal\"]')\n",
    "        for tag in url_tags:\n",
    "            urls.append(tag.get_attribute('href'))\n",
    "        driver.find_element_by_xpath('//li[@class=\"a-last\"]//a').click()\n",
    "        j+=1\n",
    "    amazon_urls.append(urls)\n",
    "    driver.find_element_by_xpath('//input[@id=\"twotabsearchtextbox\"]').clear()"
   ]
  },
  {
   "cell_type": "code",
   "execution_count": 18,
   "metadata": {},
   "outputs": [
    {
     "data": {
      "text/plain": [
       "9"
      ]
     },
     "execution_count": 18,
     "metadata": {},
     "output_type": "execute_result"
    }
   ],
   "source": [
    "len(amazon_urls)"
   ]
  },
  {
   "cell_type": "code",
   "execution_count": 19,
   "metadata": {},
   "outputs": [
    {
     "data": {
      "text/plain": [
       "2277"
      ]
     },
     "execution_count": 19,
     "metadata": {},
     "output_type": "execute_result"
    }
   ],
   "source": [
    "len(amazon_urls[0]+amazon_urls[1]+amazon_urls[2]+amazon_urls[3]+amazon_urls[4]+amazon_urls[5]+amazon_urls[6]+amazon_urls[7]+amazon_urls[8])"
   ]
  },
  {
   "cell_type": "code",
   "execution_count": 20,
   "metadata": {},
   "outputs": [],
   "source": [
    "urls=[]\n",
    "for i in range(0,9):\n",
    "    for url in amazon_urls[i]:\n",
    "        urls.append(url)"
   ]
  },
  {
   "cell_type": "code",
   "execution_count": 21,
   "metadata": {},
   "outputs": [
    {
     "data": {
      "text/plain": [
       "2277"
      ]
     },
     "execution_count": 21,
     "metadata": {},
     "output_type": "execute_result"
    }
   ],
   "source": [
    "len(urls)"
   ]
  },
  {
   "cell_type": "code",
   "execution_count": 24,
   "metadata": {},
   "outputs": [],
   "source": [
    "rating=[]\n",
    "review=[]\n",
    "for url in urls:\n",
    "    driver.get(url)\n",
    "    #time.sleep(2)\n",
    "    try:\n",
    "        rating_tags=driver.find_elements_by_xpath('//div[@id=\"cm-cr-dp-review-list\"]/div/div/div/div[2]/a/i/span')\n",
    "        for tag in rating_tags:\n",
    "            rating.append(tag.get_attribute('textContent'))\n",
    "    except:\n",
    "            rating.append('-')\n",
    "    try:\n",
    "        review_tags=driver.find_elements_by_xpath('//div[@id=\"cm-cr-dp-review-list\"]/div/div/div/div[4]')\n",
    "        for tag in review_tags:\n",
    "            review.append(tag.get_attribute('textContent'))\n",
    "    except:\n",
    "            review.append('-')"
   ]
  },
  {
   "cell_type": "code",
   "execution_count": 25,
   "metadata": {},
   "outputs": [
    {
     "data": {
      "text/plain": [
       "(11602, 11602)"
      ]
     },
     "execution_count": 25,
     "metadata": {},
     "output_type": "execute_result"
    }
   ],
   "source": [
    "len(rating),len(review)"
   ]
  },
  {
   "cell_type": "code",
   "execution_count": 27,
   "metadata": {},
   "outputs": [
    {
     "data": {
      "text/html": [
       "<div>\n",
       "<style scoped>\n",
       "    .dataframe tbody tr th:only-of-type {\n",
       "        vertical-align: middle;\n",
       "    }\n",
       "\n",
       "    .dataframe tbody tr th {\n",
       "        vertical-align: top;\n",
       "    }\n",
       "\n",
       "    .dataframe thead th {\n",
       "        text-align: right;\n",
       "    }\n",
       "</style>\n",
       "<table border=\"1\" class=\"dataframe\">\n",
       "  <thead>\n",
       "    <tr style=\"text-align: right;\">\n",
       "      <th></th>\n",
       "      <th>Ratings</th>\n",
       "      <th>Reviews</th>\n",
       "    </tr>\n",
       "  </thead>\n",
       "  <tbody>\n",
       "    <tr>\n",
       "      <th>0</th>\n",
       "      <td>3.0 out of 5 stars</td>\n",
       "      <td>\\n\\n\\n\\n\\n\\n\\n\\n\\n  \\n  Your browser does not ...</td>\n",
       "    </tr>\n",
       "    <tr>\n",
       "      <th>1</th>\n",
       "      <td>1.0 out of 5 stars</td>\n",
       "      <td>\\n\\n\\n\\n\\n\\n\\n\\n\\n\\n  \\n  \\n    \\n  Laptop get...</td>\n",
       "    </tr>\n",
       "    <tr>\n",
       "      <th>2</th>\n",
       "      <td>3.0 out of 5 stars</td>\n",
       "      <td>\\n\\n\\n\\n\\n\\n\\n\\n\\n\\n  \\n  \\n    \\n  It looks t...</td>\n",
       "    </tr>\n",
       "    <tr>\n",
       "      <th>3</th>\n",
       "      <td>3.0 out of 5 stars</td>\n",
       "      <td>\\n\\n\\n\\n\\n\\n\\n\\n\\n\\n  \\n  \\n    \\n  How to ins...</td>\n",
       "    </tr>\n",
       "    <tr>\n",
       "      <th>4</th>\n",
       "      <td>1.0 out of 5 stars</td>\n",
       "      <td>\\n\\n\\n\\n\\n\\n\\n\\n\\n\\n  \\n  \\n    \\n  HiThis is ...</td>\n",
       "    </tr>\n",
       "    <tr>\n",
       "      <th>...</th>\n",
       "      <td>...</td>\n",
       "      <td>...</td>\n",
       "    </tr>\n",
       "    <tr>\n",
       "      <th>11597</th>\n",
       "      <td>4.0 out of 5 stars</td>\n",
       "      <td>Pros:-\\n1. The Watch has great battery life ca...</td>\n",
       "    </tr>\n",
       "    <tr>\n",
       "      <th>11598</th>\n",
       "      <td>5.0 out of 5 stars</td>\n",
       "      <td>I have been using this watch since 14 days. Ba...</td>\n",
       "    </tr>\n",
       "    <tr>\n",
       "      <th>11599</th>\n",
       "      <td>4.0 out of 5 stars</td>\n",
       "      <td>PROS : GOOD BATTERY LIFE 🔋\\nAmazing touch feed...</td>\n",
       "    </tr>\n",
       "    <tr>\n",
       "      <th>11600</th>\n",
       "      <td>4.0 out of 5 stars</td>\n",
       "      <td>This was my first smartwatch, and I was very e...</td>\n",
       "    </tr>\n",
       "    <tr>\n",
       "      <th>11601</th>\n",
       "      <td>4.0 out of 5 stars</td>\n",
       "      <td>Watch is good after the update please try to g...</td>\n",
       "    </tr>\n",
       "  </tbody>\n",
       "</table>\n",
       "<p>11602 rows × 2 columns</p>\n",
       "</div>"
      ],
      "text/plain": [
       "                  Ratings                                            Reviews\n",
       "0      3.0 out of 5 stars  \\n\\n\\n\\n\\n\\n\\n\\n\\n  \\n  Your browser does not ...\n",
       "1      1.0 out of 5 stars  \\n\\n\\n\\n\\n\\n\\n\\n\\n\\n  \\n  \\n    \\n  Laptop get...\n",
       "2      3.0 out of 5 stars  \\n\\n\\n\\n\\n\\n\\n\\n\\n\\n  \\n  \\n    \\n  It looks t...\n",
       "3      3.0 out of 5 stars  \\n\\n\\n\\n\\n\\n\\n\\n\\n\\n  \\n  \\n    \\n  How to ins...\n",
       "4      1.0 out of 5 stars  \\n\\n\\n\\n\\n\\n\\n\\n\\n\\n  \\n  \\n    \\n  HiThis is ...\n",
       "...                   ...                                                ...\n",
       "11597  4.0 out of 5 stars  Pros:-\\n1. The Watch has great battery life ca...\n",
       "11598  5.0 out of 5 stars  I have been using this watch since 14 days. Ba...\n",
       "11599  4.0 out of 5 stars  PROS : GOOD BATTERY LIFE 🔋\\nAmazing touch feed...\n",
       "11600  4.0 out of 5 stars  This was my first smartwatch, and I was very e...\n",
       "11601  4.0 out of 5 stars  Watch is good after the update please try to g...\n",
       "\n",
       "[11602 rows x 2 columns]"
      ]
     },
     "execution_count": 27,
     "metadata": {},
     "output_type": "execute_result"
    }
   ],
   "source": [
    "df=pd.DataFrame({})\n",
    "df['Ratings']=rating\n",
    "df['Reviews']=review\n",
    "df"
   ]
  },
  {
   "cell_type": "code",
   "execution_count": 28,
   "metadata": {},
   "outputs": [],
   "source": [
    "df.to_csv('Amazon_ratings_final.csv')"
   ]
  },
  {
   "cell_type": "code",
   "execution_count": null,
   "metadata": {},
   "outputs": [],
   "source": []
  }
 ],
 "metadata": {
  "kernelspec": {
   "display_name": "Python 3",
   "language": "python",
   "name": "python3"
  },
  "language_info": {
   "codemirror_mode": {
    "name": "ipython",
    "version": 3
   },
   "file_extension": ".py",
   "mimetype": "text/x-python",
   "name": "python",
   "nbconvert_exporter": "python",
   "pygments_lexer": "ipython3",
   "version": "3.8.3"
  }
 },
 "nbformat": 4,
 "nbformat_minor": 4
}
