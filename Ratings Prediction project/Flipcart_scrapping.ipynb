{
 "cells": [
  {
   "cell_type": "code",
   "execution_count": 1,
   "metadata": {},
   "outputs": [],
   "source": [
    "#import all the required libraries\n",
    "import pandas as pd\n",
    "from bs4 import BeautifulSoup\n",
    "import time\n",
    "import requests\n",
    "import selenium\n",
    "from selenium import webdriver\n",
    "from selenium.webdriver.chrome.options import Options\n",
    "from selenium.webdriver.common.by import By\n",
    "from selenium.webdriver.support.ui import WebDriverWait\n",
    "from selenium.webdriver.support import expected_conditions as EC\n",
    "from selenium.common.exceptions import StaleElementReferenceException, NoSuchElementException ,TimeoutException"
   ]
  },
  {
   "cell_type": "code",
   "execution_count": 6,
   "metadata": {},
   "outputs": [],
   "source": [
    "from tqdm import tqdm"
   ]
  },
  {
   "cell_type": "code",
   "execution_count": 2,
   "metadata": {},
   "outputs": [],
   "source": [
    "productname=['laptops']\n",
    "prolink1=[]\n",
    "links1=[]\n",
    "review=[]\n",
    "rating=[]"
   ]
  },
  {
   "cell_type": "code",
   "execution_count": 24,
   "metadata": {},
   "outputs": [],
   "source": [
    "driver=webdriver.Chrome(\"D:\\chromedriver_win32 (1)\\chromedriver.exe\")\n",
    "driver.get(\"https://www.flipkart.com/\")"
   ]
  },
  {
   "cell_type": "code",
   "execution_count": 4,
   "metadata": {},
   "outputs": [],
   "source": [
    "#Closing the Pop-up button appearing on the page\n",
    "close_button=driver.find_element_by_xpath(\"//button[@class='_2KpZ6l _2doB4z']\")\n",
    "close_button.click()         "
   ]
  },
  {
   "cell_type": "code",
   "execution_count": 5,
   "metadata": {},
   "outputs": [],
   "source": [
    "for m in productname:\n",
    "    search = driver. find_element_by_xpath(\"//div[@class='_3OO5Xc']/input\")\n",
    "    search.clear()\n",
    "    search.send_keys(m)\n",
    "    search_btn = driver.find_element_by_xpath(\"//button[@class='L0Z3Pu']\")\n",
    "    search_btn.click()\n",
    "    for j in range(0,10):\n",
    "        time.sleep(2)\n",
    "        hlink=driver.find_elements_by_xpath(\"//a[@class = '_1fQZEK']\")\n",
    "        for i in hlink:\n",
    "            h=i.get_attribute('href')\n",
    "            prolink1.append(h)\n",
    "        button=driver.find_element_by_xpath(\"//*[contains(text(), 'Next')]\")\n",
    "        driver.execute_script(\"arguments[0].click();\", button)\n",
    "        time.sleep(3)\n",
    " #       hlink= None\n",
    "  #      print(\"going to next page\")"
   ]
  },
  {
   "cell_type": "code",
   "execution_count": 6,
   "metadata": {},
   "outputs": [
    {
     "data": {
      "text/plain": [
       "240"
      ]
     },
     "execution_count": 6,
     "metadata": {},
     "output_type": "execute_result"
    }
   ],
   "source": [
    "len(prolink1)"
   ]
  },
  {
   "cell_type": "code",
   "execution_count": 9,
   "metadata": {},
   "outputs": [
    {
     "name": "stderr",
     "output_type": "stream",
     "text": [
      "100%|████████████████████████████████████████████████████████████████████████████████| 240/240 [38:07<00:00,  9.53s/it]\n"
     ]
    }
   ],
   "source": [
    "for a in tqdm(prolink1):    \n",
    "    driver.get(a)\n",
    "    try:\n",
    "        \n",
    "        xt = driver.find_element_by_xpath(\"//div[@class= 'col JOpGWq']/a\")\n",
    "        tt=xt.get_attribute(\"href\")\n",
    "        driver.get(tt)\n",
    "        for j in range(0,5):\n",
    "            review_tags=driver.find_elements_by_xpath(\"//nav[@class='yFHi8N']\")\n",
    "            for i in review_tags:\n",
    "                review_tags1=i.find_element_by_tag_name(\"a\")\n",
    "                links1.append(review_tags1.get_attribute('href'))\n",
    "                try:\n",
    "                    button=driver.find_element_by_xpath(\"//*[contains(text(), 'Next')]\")\n",
    "                    driver.execute_script(\"arguments[0].click();\", button)\n",
    "                except NoSuchElementException:\n",
    "                    pass\n",
    "                time.sleep(3)\n",
    "    except NoSuchElementException:\n",
    "        pass\n",
    "    "
   ]
  },
  {
   "cell_type": "code",
   "execution_count": 10,
   "metadata": {},
   "outputs": [
    {
     "data": {
      "text/plain": [
       "580"
      ]
     },
     "execution_count": 10,
     "metadata": {},
     "output_type": "execute_result"
    }
   ],
   "source": [
    "len(links1)"
   ]
  },
  {
   "cell_type": "code",
   "execution_count": 11,
   "metadata": {},
   "outputs": [],
   "source": [
    "Final_links1 = []\n",
    "for i in links1:\n",
    "    if i not in Final_links1:\n",
    "        Final_links1.append(i)"
   ]
  },
  {
   "cell_type": "code",
   "execution_count": 12,
   "metadata": {},
   "outputs": [
    {
     "data": {
      "text/plain": [
       "331"
      ]
     },
     "execution_count": 12,
     "metadata": {},
     "output_type": "execute_result"
    }
   ],
   "source": [
    "len(Final_links1)"
   ]
  },
  {
   "cell_type": "code",
   "execution_count": 13,
   "metadata": {},
   "outputs": [
    {
     "name": "stderr",
     "output_type": "stream",
     "text": [
      "100%|████████████████████████████████████████████████████████████████████████████████| 331/331 [07:12<00:00,  1.31s/it]\n"
     ]
    }
   ],
   "source": [
    "#running a loop to extract all the required information from u\n",
    "from tqdm import tqdm\n",
    "for i in tqdm(Final_links1):\n",
    "    driver.get(i)\n",
    "    \n",
    "    \n",
    "    for j in driver.find_elements_by_xpath(\"//div[@class='_3LWZlK _1BLPMq' or @class='_3LWZlK _32lA32 _1BLPMq' or @class='_3LWZlK _1rdVr6 _1BLPMq']\"):\n",
    "        rating.append(j.text)\n",
    "            \n",
    "            \n",
    "    for k in driver.find_elements_by_xpath(\"//div[@class='t-ZTKy']/div/div\"):\n",
    "        review.append(k.text.replace('\\n',' '))"
   ]
  },
  {
   "cell_type": "code",
   "execution_count": 14,
   "metadata": {},
   "outputs": [
    {
     "data": {
      "text/plain": [
       "(3310, 3310)"
      ]
     },
     "execution_count": 14,
     "metadata": {},
     "output_type": "execute_result"
    }
   ],
   "source": [
    "len(rating),len(review)"
   ]
  },
  {
   "cell_type": "code",
   "execution_count": 23,
   "metadata": {},
   "outputs": [],
   "source": [
    "productname=['phone']\n",
    "prolink2=[]\n",
    "links2=[]\n"
   ]
  },
  {
   "cell_type": "code",
   "execution_count": 24,
   "metadata": {},
   "outputs": [],
   "source": [
    "driver.get(\"https://www.flipkart.com/\")"
   ]
  },
  {
   "cell_type": "code",
   "execution_count": 25,
   "metadata": {},
   "outputs": [],
   "source": [
    "for m in productname:\n",
    "    search = driver. find_element_by_xpath(\"//div[@class='_3OO5Xc']/input\")\n",
    "    search.clear()\n",
    "    search.send_keys(m)\n",
    "    search_btn = driver.find_element_by_xpath(\"//button[@class='L0Z3Pu']\")\n",
    "    search_btn.click()\n",
    "    for j in range(0,10):\n",
    "        time.sleep(2)\n",
    "        hlink=driver.find_elements_by_xpath(\"//a[@class = '_2rpwqI']\")\n",
    "        for i in hlink:\n",
    "            h=i.get_attribute('href')\n",
    "            prolink2.append(h)\n",
    "        button=driver.find_element_by_xpath(\"//*[contains(text(), 'Next')]\")\n",
    "        driver.execute_script(\"arguments[0].click();\", button)\n",
    "        time.sleep(3)\n",
    " #       hlink= None\n",
    "  #      print(\"going to next page\")"
   ]
  },
  {
   "cell_type": "code",
   "execution_count": 26,
   "metadata": {},
   "outputs": [
    {
     "data": {
      "text/plain": [
       "400"
      ]
     },
     "execution_count": 26,
     "metadata": {},
     "output_type": "execute_result"
    }
   ],
   "source": [
    "len(prolink2)"
   ]
  },
  {
   "cell_type": "code",
   "execution_count": 27,
   "metadata": {},
   "outputs": [
    {
     "name": "stderr",
     "output_type": "stream",
     "text": [
      "100%|██████████████████████████████████████████████████████████████████████████████| 400/400 [2:02:48<00:00, 18.42s/it]\n"
     ]
    }
   ],
   "source": [
    "for a in tqdm(prolink2):    \n",
    "    driver.get(a)\n",
    "    try:\n",
    "        \n",
    "        xt = driver.find_element_by_xpath(\"//div[@class= 'col JOpGWq']/a\")\n",
    "        tt=xt.get_attribute(\"href\")\n",
    "        driver.get(tt)\n",
    "        for j in range(0,5):\n",
    "            review_tags=driver.find_elements_by_xpath(\"//nav[@class='yFHi8N']\")\n",
    "            for i in review_tags:\n",
    "                review_tags1=i.find_element_by_tag_name(\"a\")\n",
    "                links2.append(review_tags1.get_attribute('href'))\n",
    "                try:\n",
    "                    button=driver.find_element_by_xpath(\"//*[contains(text(), 'Next')]\")\n",
    "                    driver.execute_script(\"arguments[0].click();\", button)\n",
    "                except NoSuchElementException:\n",
    "                    pass\n",
    "                time.sleep(3)\n",
    "    except NoSuchElementException:\n",
    "        pass"
   ]
  },
  {
   "cell_type": "code",
   "execution_count": 28,
   "metadata": {},
   "outputs": [
    {
     "data": {
      "text/plain": [
       "1930"
      ]
     },
     "execution_count": 28,
     "metadata": {},
     "output_type": "execute_result"
    }
   ],
   "source": [
    "len(links2)"
   ]
  },
  {
   "cell_type": "code",
   "execution_count": 29,
   "metadata": {},
   "outputs": [],
   "source": [
    "Final_links2 = []\n",
    "for i in links2:\n",
    "    if i not in Final_links2:\n",
    "        Final_links2.append(i)"
   ]
  },
  {
   "cell_type": "code",
   "execution_count": 30,
   "metadata": {},
   "outputs": [
    {
     "data": {
      "text/plain": [
       "1454"
      ]
     },
     "execution_count": 30,
     "metadata": {},
     "output_type": "execute_result"
    }
   ],
   "source": [
    "len(Final_links2)"
   ]
  },
  {
   "cell_type": "code",
   "execution_count": 31,
   "metadata": {},
   "outputs": [
    {
     "name": "stderr",
     "output_type": "stream",
     "text": [
      "100%|██████████████████████████████████████████████████████████████████████████████| 1454/1454 [28:09<00:00,  1.16s/it]\n"
     ]
    }
   ],
   "source": [
    "#running a loop to extract all the required information from url\n",
    "\n",
    "from tqdm import tqdm\n",
    "for i in tqdm(Final_links2):\n",
    "    driver.get(i)\n",
    "    \n",
    "    \n",
    "    for j in driver.find_elements_by_xpath(\"//div[@class='_3LWZlK _1BLPMq' or @class='_3LWZlK _32lA32 _1BLPMq' or @class='_3LWZlK _1rdVr6 _1BLPMq']\"):\n",
    "        rating.append(j.text)\n",
    "            \n",
    "            \n",
    "    for k in driver.find_elements_by_xpath(\"//div[@class='t-ZTKy']/div/div\"):\n",
    "        review.append(k.text.replace('\\n',' '))"
   ]
  },
  {
   "cell_type": "code",
   "execution_count": 32,
   "metadata": {},
   "outputs": [
    {
     "data": {
      "text/plain": [
       "(17827, 17827)"
      ]
     },
     "execution_count": 32,
     "metadata": {},
     "output_type": "execute_result"
    }
   ],
   "source": [
    "len(rating),len(review)"
   ]
  },
  {
   "cell_type": "code",
   "execution_count": 35,
   "metadata": {},
   "outputs": [],
   "source": [
    "productname=['headphones']\n",
    "prolink3=[]\n",
    "links3=[]"
   ]
  },
  {
   "cell_type": "code",
   "execution_count": 36,
   "metadata": {},
   "outputs": [],
   "source": [
    "driver.get(\"https://www.flipkart.com/\")"
   ]
  },
  {
   "cell_type": "code",
   "execution_count": 37,
   "metadata": {},
   "outputs": [],
   "source": [
    "for m in productname:\n",
    "    search = driver. find_element_by_xpath(\"//div[@class='_3OO5Xc']/input\")\n",
    "    search.clear()\n",
    "    search.send_keys(m)\n",
    "    search_btn = driver.find_element_by_xpath(\"//button[@class='L0Z3Pu']\")\n",
    "    search_btn.click()\n",
    "    for j in range(0,10):\n",
    "        time.sleep(2)\n",
    "        hlink=driver.find_elements_by_xpath(\"//a[@class = '_2rpwqI']\")\n",
    "        for i in hlink:\n",
    "            h=i.get_attribute('href')\n",
    "            prolink3.append(h)\n",
    "        button=driver.find_element_by_xpath(\"//*[contains(text(), 'Next')]\")\n",
    "        driver.execute_script(\"arguments[0].click();\", button)\n",
    "        time.sleep(3)\n",
    " #       hlink= None\n",
    "  #      print(\"going to next page\")"
   ]
  },
  {
   "cell_type": "code",
   "execution_count": 38,
   "metadata": {},
   "outputs": [
    {
     "data": {
      "text/plain": [
       "400"
      ]
     },
     "execution_count": 38,
     "metadata": {},
     "output_type": "execute_result"
    }
   ],
   "source": [
    "len(prolink3)"
   ]
  },
  {
   "cell_type": "code",
   "execution_count": 39,
   "metadata": {},
   "outputs": [
    {
     "name": "stderr",
     "output_type": "stream",
     "text": [
      "100%|██████████████████████████████████████████████████████████████████████████████| 400/400 [1:55:15<00:00, 17.29s/it]\n"
     ]
    }
   ],
   "source": [
    "for a in tqdm(prolink3):    \n",
    "    driver.get(a)\n",
    "    try:\n",
    "        \n",
    "        xt = driver.find_element_by_xpath(\"//div[@class= 'col JOpGWq']/a\")\n",
    "        tt=xt.get_attribute(\"href\")\n",
    "        driver.get(tt)\n",
    "        for j in range(0,5):\n",
    "            review_tags=driver.find_elements_by_xpath(\"//nav[@class='yFHi8N']\")\n",
    "            for i in review_tags:\n",
    "                review_tags1=i.find_element_by_tag_name(\"a\")\n",
    "                links3.append(review_tags1.get_attribute('href'))\n",
    "                try:\n",
    "                    button=driver.find_element_by_xpath(\"//*[contains(text(), 'Next')]\")\n",
    "                    driver.execute_script(\"arguments[0].click();\", button)\n",
    "                except NoSuchElementException:\n",
    "                    pass\n",
    "                time.sleep(3)\n",
    "    except NoSuchElementException:\n",
    "        pass"
   ]
  },
  {
   "cell_type": "code",
   "execution_count": 40,
   "metadata": {},
   "outputs": [
    {
     "data": {
      "text/plain": [
       "1775"
      ]
     },
     "execution_count": 40,
     "metadata": {},
     "output_type": "execute_result"
    }
   ],
   "source": [
    "len(links3)"
   ]
  },
  {
   "cell_type": "code",
   "execution_count": 41,
   "metadata": {},
   "outputs": [],
   "source": [
    "Final_links3 = []\n",
    "for i in links3:\n",
    "    if i not in Final_links3:\n",
    "        Final_links3.append(i)"
   ]
  },
  {
   "cell_type": "code",
   "execution_count": 42,
   "metadata": {},
   "outputs": [
    {
     "data": {
      "text/plain": [
       "1259"
      ]
     },
     "execution_count": 42,
     "metadata": {},
     "output_type": "execute_result"
    }
   ],
   "source": [
    "len(Final_links3)"
   ]
  },
  {
   "cell_type": "code",
   "execution_count": 43,
   "metadata": {},
   "outputs": [
    {
     "name": "stderr",
     "output_type": "stream",
     "text": [
      "100%|██████████████████████████████████████████████████████████████████████████████| 1259/1259 [26:07<00:00,  1.25s/it]\n"
     ]
    }
   ],
   "source": [
    "#running a loop to extract all the required information from url\n",
    "\n",
    "from tqdm import tqdm\n",
    "for i in tqdm(Final_links3):\n",
    "    driver.get(i)\n",
    "    \n",
    "    \n",
    "    for j in driver.find_elements_by_xpath(\"//div[@class='_3LWZlK _1BLPMq' or @class='_3LWZlK _32lA32 _1BLPMq' or @class='_3LWZlK _1rdVr6 _1BLPMq']\"):\n",
    "        rating.append(j.text)\n",
    "            \n",
    "            \n",
    "    for k in driver.find_elements_by_xpath(\"//div[@class='t-ZTKy']/div/div\"):\n",
    "        review.append(k.text.replace('\\n',' '))"
   ]
  },
  {
   "cell_type": "code",
   "execution_count": 44,
   "metadata": {},
   "outputs": [
    {
     "data": {
      "text/plain": [
       "(30315, 30315)"
      ]
     },
     "execution_count": 44,
     "metadata": {},
     "output_type": "execute_result"
    }
   ],
   "source": [
    "len(rating),len(review)"
   ]
  },
  {
   "cell_type": "code",
   "execution_count": 45,
   "metadata": {},
   "outputs": [
    {
     "data": {
      "text/html": [
       "<div>\n",
       "<style scoped>\n",
       "    .dataframe tbody tr th:only-of-type {\n",
       "        vertical-align: middle;\n",
       "    }\n",
       "\n",
       "    .dataframe tbody tr th {\n",
       "        vertical-align: top;\n",
       "    }\n",
       "\n",
       "    .dataframe thead th {\n",
       "        text-align: right;\n",
       "    }\n",
       "</style>\n",
       "<table border=\"1\" class=\"dataframe\">\n",
       "  <thead>\n",
       "    <tr style=\"text-align: right;\">\n",
       "      <th></th>\n",
       "      <th>Ratings</th>\n",
       "      <th>Reviews</th>\n",
       "    </tr>\n",
       "  </thead>\n",
       "  <tbody>\n",
       "    <tr>\n",
       "      <th>0</th>\n",
       "      <td>4</td>\n",
       "      <td>Product is good but the fan is running continu...</td>\n",
       "    </tr>\n",
       "    <tr>\n",
       "      <th>1</th>\n",
       "      <td>5</td>\n",
       "      <td>It's just amazing! Let me get the details here...</td>\n",
       "    </tr>\n",
       "    <tr>\n",
       "      <th>2</th>\n",
       "      <td>5</td>\n",
       "      <td>Very good It's a beast at the price of 40k Lov...</td>\n",
       "    </tr>\n",
       "    <tr>\n",
       "      <th>3</th>\n",
       "      <td>5</td>\n",
       "      <td>It's amazing! Best is this category. I just bo...</td>\n",
       "    </tr>\n",
       "    <tr>\n",
       "      <th>4</th>\n",
       "      <td>4</td>\n",
       "      <td>Thanks Flipkart for fast delivery in our lockd...</td>\n",
       "    </tr>\n",
       "    <tr>\n",
       "      <th>...</th>\n",
       "      <td>...</td>\n",
       "      <td>...</td>\n",
       "    </tr>\n",
       "    <tr>\n",
       "      <th>30310</th>\n",
       "      <td>3</td>\n",
       "      <td>Think thank he</td>\n",
       "    </tr>\n",
       "    <tr>\n",
       "      <th>30311</th>\n",
       "      <td>5</td>\n",
       "      <td>Super</td>\n",
       "    </tr>\n",
       "    <tr>\n",
       "      <th>30312</th>\n",
       "      <td>4</td>\n",
       "      <td>Nice</td>\n",
       "    </tr>\n",
       "    <tr>\n",
       "      <th>30313</th>\n",
       "      <td>2</td>\n",
       "      <td>Hello head phone ritern but not refund Way</td>\n",
       "    </tr>\n",
       "    <tr>\n",
       "      <th>30314</th>\n",
       "      <td>5</td>\n",
       "      <td>Nice Products Worth of money you should really...</td>\n",
       "    </tr>\n",
       "  </tbody>\n",
       "</table>\n",
       "<p>30315 rows × 2 columns</p>\n",
       "</div>"
      ],
      "text/plain": [
       "      Ratings                                            Reviews\n",
       "0           4  Product is good but the fan is running continu...\n",
       "1           5  It's just amazing! Let me get the details here...\n",
       "2           5  Very good It's a beast at the price of 40k Lov...\n",
       "3           5  It's amazing! Best is this category. I just bo...\n",
       "4           4  Thanks Flipkart for fast delivery in our lockd...\n",
       "...       ...                                                ...\n",
       "30310       3                                     Think thank he\n",
       "30311       5                                              Super\n",
       "30312       4                                               Nice\n",
       "30313       2         Hello head phone ritern but not refund Way\n",
       "30314       5  Nice Products Worth of money you should really...\n",
       "\n",
       "[30315 rows x 2 columns]"
      ]
     },
     "execution_count": 45,
     "metadata": {},
     "output_type": "execute_result"
    }
   ],
   "source": [
    "df3=pd.DataFrame()\n",
    "df3['Ratings']=rating\n",
    "df3['Reviews']=review\n",
    "df3"
   ]
  },
  {
   "cell_type": "code",
   "execution_count": 46,
   "metadata": {},
   "outputs": [
    {
     "data": {
      "text/plain": [
       "5    18473\n",
       "4     6728\n",
       "1     2212\n",
       "3     2042\n",
       "2      860\n",
       "Name: Ratings, dtype: int64"
      ]
     },
     "execution_count": 46,
     "metadata": {},
     "output_type": "execute_result"
    }
   ],
   "source": [
    "df3['Ratings'].value_counts()"
   ]
  },
  {
   "cell_type": "code",
   "execution_count": 47,
   "metadata": {},
   "outputs": [],
   "source": [
    "df3.to_csv(\"review_rating_df3.csv\")"
   ]
  },
  {
   "cell_type": "code",
   "execution_count": 11,
   "metadata": {},
   "outputs": [],
   "source": [
    "productname=['professional camera']\n",
    "prolink4=[]\n",
    "links4=[]\n",
    "review=[]\n",
    "rating=[]"
   ]
  },
  {
   "cell_type": "code",
   "execution_count": 9,
   "metadata": {},
   "outputs": [],
   "source": [
    "driver=webdriver.Chrome(\"D:\\chromedriver_win32 (1)\\chromedriver.exe\")\n",
    "driver.get(\"https://www.flipkart.com/\")"
   ]
  },
  {
   "cell_type": "code",
   "execution_count": 13,
   "metadata": {},
   "outputs": [],
   "source": [
    "for m in productname:\n",
    "    search = driver. find_element_by_xpath(\"//div[@class='_3OO5Xc']/input\")\n",
    "    search.clear()\n",
    "    search.send_keys(m)\n",
    "    search_btn = driver.find_element_by_xpath(\"//button[@class='L0Z3Pu']\")\n",
    "    search_btn.click()\n",
    "    for j in range(0,3):\n",
    "        time.sleep(2)\n",
    "        hlink=driver.find_elements_by_xpath(\"//a[@class = '_2rpwqI']\")\n",
    "        for i in hlink:\n",
    "            h=i.get_attribute('href')\n",
    "            prolink4.append(h)\n",
    "        button=driver.find_element_by_xpath(\"//*[contains(text(), 'Next')]\")\n",
    "        driver.execute_script(\"arguments[0].click();\", button)\n",
    "        time.sleep(3)\n",
    " #       hlink= None\n",
    "  #      print(\"going to next page\")"
   ]
  },
  {
   "cell_type": "code",
   "execution_count": null,
   "metadata": {},
   "outputs": [],
   "source": []
  },
  {
   "cell_type": "code",
   "execution_count": 14,
   "metadata": {},
   "outputs": [
    {
     "data": {
      "text/plain": [
       "120"
      ]
     },
     "execution_count": 14,
     "metadata": {},
     "output_type": "execute_result"
    }
   ],
   "source": [
    "len(prolink4)"
   ]
  },
  {
   "cell_type": "code",
   "execution_count": 15,
   "metadata": {},
   "outputs": [
    {
     "name": "stderr",
     "output_type": "stream",
     "text": [
      "100%|████████████████████████████████████████████████████████████████████████████████| 120/120 [20:37<00:00, 10.31s/it]\n"
     ]
    }
   ],
   "source": [
    "for a in tqdm(prolink4):    \n",
    "    driver.get(a)\n",
    "    try:\n",
    "        \n",
    "        xt = driver.find_element_by_xpath(\"//div[@class= 'col JOpGWq']/a\")\n",
    "        tt=xt.get_attribute(\"href\")\n",
    "        driver.get(tt)\n",
    "        for j in range(0,5):\n",
    "            review_tags=driver.find_elements_by_xpath(\"//nav[@class='yFHi8N']\")\n",
    "            for i in review_tags:\n",
    "                review_tags1=i.find_element_by_tag_name(\"a\")\n",
    "                links4.append(review_tags1.get_attribute('href'))\n",
    "                try:\n",
    "                    button=driver.find_element_by_xpath(\"//*[contains(text(), 'Next')]\")\n",
    "                    driver.execute_script(\"arguments[0].click();\", button)\n",
    "                except NoSuchElementException:\n",
    "                    pass\n",
    "                time.sleep(3)\n",
    "    except NoSuchElementException:\n",
    "        pass"
   ]
  },
  {
   "cell_type": "code",
   "execution_count": 16,
   "metadata": {},
   "outputs": [
    {
     "data": {
      "text/plain": [
       "285"
      ]
     },
     "execution_count": 16,
     "metadata": {},
     "output_type": "execute_result"
    }
   ],
   "source": [
    "len(links4)"
   ]
  },
  {
   "cell_type": "code",
   "execution_count": 17,
   "metadata": {},
   "outputs": [],
   "source": [
    "Final_links4 = []\n",
    "for i in links4:\n",
    "    if i not in Final_links4:\n",
    "        Final_links4.append(i)"
   ]
  },
  {
   "cell_type": "code",
   "execution_count": 21,
   "metadata": {},
   "outputs": [
    {
     "data": {
      "text/plain": [
       "174"
      ]
     },
     "execution_count": 21,
     "metadata": {},
     "output_type": "execute_result"
    }
   ],
   "source": [
    "len(Final_links4)"
   ]
  },
  {
   "cell_type": "code",
   "execution_count": 25,
   "metadata": {},
   "outputs": [
    {
     "name": "stderr",
     "output_type": "stream",
     "text": [
      "100%|████████████████████████████████████████████████████████████████████████████████| 174/174 [04:54<00:00,  1.69s/it]\n"
     ]
    }
   ],
   "source": [
    "#running a loop to extract all the required information from url\n",
    "\n",
    "from tqdm import tqdm\n",
    "for i in tqdm(Final_links4):\n",
    "    driver.get(i)\n",
    "    \n",
    "    \n",
    "    for j in driver.find_elements_by_xpath(\"//div[@class='_3LWZlK _1BLPMq' or @class='_3LWZlK _32lA32 _1BLPMq' or @class='_3LWZlK _1rdVr6 _1BLPMq']\"):\n",
    "        rating.append(j.text)\n",
    "            \n",
    "            \n",
    "    for k in driver.find_elements_by_xpath(\"//div[@class='t-ZTKy']/div/div\"):\n",
    "        review.append(k.text.replace('\\n',' '))"
   ]
  },
  {
   "cell_type": "code",
   "execution_count": 26,
   "metadata": {},
   "outputs": [
    {
     "data": {
      "text/plain": [
       "(1740, 1740)"
      ]
     },
     "execution_count": 26,
     "metadata": {},
     "output_type": "execute_result"
    }
   ],
   "source": [
    "len(rating),len(review)"
   ]
  },
  {
   "cell_type": "code",
   "execution_count": null,
   "metadata": {},
   "outputs": [],
   "source": []
  },
  {
   "cell_type": "code",
   "execution_count": 27,
   "metadata": {},
   "outputs": [],
   "source": [
    "productname=['printer']\n",
    "prolink5=[]\n",
    "links5=[]"
   ]
  },
  {
   "cell_type": "code",
   "execution_count": 28,
   "metadata": {},
   "outputs": [],
   "source": [
    "driver.get(\"https://www.flipkart.com/\")"
   ]
  },
  {
   "cell_type": "code",
   "execution_count": 29,
   "metadata": {},
   "outputs": [],
   "source": [
    "for m in productname:\n",
    "    search = driver. find_element_by_xpath(\"//div[@class='_3OO5Xc']/input\")\n",
    "    search.clear()\n",
    "    search.send_keys(m)\n",
    "    search_btn = driver.find_element_by_xpath(\"//button[@class='L0Z3Pu']\")\n",
    "    search_btn.click()\n",
    "    for j in range(0,4):\n",
    "        time.sleep(2)\n",
    "        hlink=driver.find_elements_by_xpath(\"//a[@class = '_2rpwqI']\")\n",
    "        for i in hlink:\n",
    "            h=i.get_attribute('href')\n",
    "            prolink5.append(h)\n",
    "        button=driver.find_element_by_xpath(\"//*[contains(text(), 'Next')]\")\n",
    "        driver.execute_script(\"arguments[0].click();\", button)\n",
    "        time.sleep(3)\n",
    " #       hlink= None\n",
    "  #      print(\"going to next page\")"
   ]
  },
  {
   "cell_type": "code",
   "execution_count": 30,
   "metadata": {},
   "outputs": [
    {
     "data": {
      "text/plain": [
       "160"
      ]
     },
     "execution_count": 30,
     "metadata": {},
     "output_type": "execute_result"
    }
   ],
   "source": [
    "len(prolink5)"
   ]
  },
  {
   "cell_type": "code",
   "execution_count": 32,
   "metadata": {},
   "outputs": [
    {
     "name": "stderr",
     "output_type": "stream",
     "text": [
      "100%|████████████████████████████████████████████████████████████████████████████████| 160/160 [31:58<00:00, 11.99s/it]\n"
     ]
    }
   ],
   "source": [
    "for a in tqdm(prolink5):    \n",
    "    driver.get(a)\n",
    "    try:\n",
    "        \n",
    "        xt = driver.find_element_by_xpath(\"//div[@class= 'col JOpGWq']/a\")\n",
    "        tt=xt.get_attribute(\"href\")\n",
    "        driver.get(tt)\n",
    "        for j in range(0,5):\n",
    "            review_tags=driver.find_elements_by_xpath(\"//nav[@class='yFHi8N']\")\n",
    "            for i in review_tags:\n",
    "                review_tags1=i.find_element_by_tag_name(\"a\")\n",
    "                links5.append(review_tags1.get_attribute('href'))\n",
    "                try:\n",
    "                    button=driver.find_element_by_xpath(\"//*[contains(text(), 'Next')]\")\n",
    "                    driver.execute_script(\"arguments[0].click();\", button)\n",
    "                except NoSuchElementException:\n",
    "                    pass\n",
    "                time.sleep(3)\n",
    "    except NoSuchElementException:\n",
    "        pass"
   ]
  },
  {
   "cell_type": "code",
   "execution_count": 33,
   "metadata": {},
   "outputs": [
    {
     "data": {
      "text/plain": [
       "470"
      ]
     },
     "execution_count": 33,
     "metadata": {},
     "output_type": "execute_result"
    }
   ],
   "source": [
    "len(links5)"
   ]
  },
  {
   "cell_type": "code",
   "execution_count": 34,
   "metadata": {},
   "outputs": [],
   "source": [
    "Final_links5 = []\n",
    "for i in links5:\n",
    "    if i not in Final_links5:\n",
    "        Final_links5.append(i)"
   ]
  },
  {
   "cell_type": "code",
   "execution_count": 35,
   "metadata": {},
   "outputs": [
    {
     "data": {
      "text/plain": [
       "320"
      ]
     },
     "execution_count": 35,
     "metadata": {},
     "output_type": "execute_result"
    }
   ],
   "source": [
    "len(Final_links5)"
   ]
  },
  {
   "cell_type": "code",
   "execution_count": 36,
   "metadata": {},
   "outputs": [
    {
     "name": "stderr",
     "output_type": "stream",
     "text": [
      "100%|████████████████████████████████████████████████████████████████████████████████| 320/320 [06:48<00:00,  1.28s/it]\n"
     ]
    }
   ],
   "source": [
    "#running a loop to extract all the required information from url\n",
    "\n",
    "from tqdm import tqdm\n",
    "for i in tqdm(Final_links5):\n",
    "    driver.get(i)\n",
    "    \n",
    "    \n",
    "    for j in driver.find_elements_by_xpath(\"//div[@class='_3LWZlK _1BLPMq' or @class='_3LWZlK _32lA32 _1BLPMq' or @class='_3LWZlK _1rdVr6 _1BLPMq']\"):\n",
    "        rating.append(j.text)\n",
    "            \n",
    "            \n",
    "    for k in driver.find_elements_by_xpath(\"//div[@class='t-ZTKy']/div/div\"):\n",
    "        review.append(k.text.replace('\\n',' '))"
   ]
  },
  {
   "cell_type": "code",
   "execution_count": 37,
   "metadata": {},
   "outputs": [
    {
     "data": {
      "text/plain": [
       "(4940, 4940)"
      ]
     },
     "execution_count": 37,
     "metadata": {},
     "output_type": "execute_result"
    }
   ],
   "source": [
    "len(rating),len(review)"
   ]
  },
  {
   "cell_type": "code",
   "execution_count": 38,
   "metadata": {},
   "outputs": [],
   "source": [
    "productname=['router']\n",
    "prolink6=[]\n",
    "links6=[]"
   ]
  },
  {
   "cell_type": "code",
   "execution_count": 39,
   "metadata": {},
   "outputs": [],
   "source": [
    "driver.get(\"https://www.flipkart.com/\")"
   ]
  },
  {
   "cell_type": "code",
   "execution_count": 40,
   "metadata": {},
   "outputs": [],
   "source": [
    "for m in productname:\n",
    "    search = driver. find_element_by_xpath(\"//div[@class='_3OO5Xc']/input\")\n",
    "    search.clear()\n",
    "    search.send_keys(m)\n",
    "    search_btn = driver.find_element_by_xpath(\"//button[@class='L0Z3Pu']\")\n",
    "    search_btn.click()\n",
    "    for j in range(0,10):\n",
    "        time.sleep(2)\n",
    "        hlink=driver.find_elements_by_xpath(\"//a[@class = '_2rpwqI']\")\n",
    "        for i in hlink:\n",
    "            h=i.get_attribute('href')\n",
    "            prolink6.append(h)\n",
    "        button=driver.find_element_by_xpath(\"//*[contains(text(), 'Next')]\")\n",
    "        driver.execute_script(\"arguments[0].click();\", button)\n",
    "        time.sleep(3)\n",
    " #       hlink= None\n",
    "  #      print(\"going to next page\")"
   ]
  },
  {
   "cell_type": "code",
   "execution_count": 41,
   "metadata": {},
   "outputs": [
    {
     "data": {
      "text/plain": [
       "400"
      ]
     },
     "execution_count": 41,
     "metadata": {},
     "output_type": "execute_result"
    }
   ],
   "source": [
    "len(prolink6)"
   ]
  },
  {
   "cell_type": "code",
   "execution_count": 42,
   "metadata": {},
   "outputs": [
    {
     "name": "stderr",
     "output_type": "stream",
     "text": [
      "100%|████████████████████████████████████████████████████████████████████████████████| 400/400 [45:31<00:00,  6.83s/it]\n"
     ]
    }
   ],
   "source": [
    "for a in tqdm(prolink6):    \n",
    "    driver.get(a)\n",
    "    try:\n",
    "        \n",
    "        xt = driver.find_element_by_xpath(\"//div[@class= 'col JOpGWq']/a\")\n",
    "        tt=xt.get_attribute(\"href\")\n",
    "        driver.get(tt)\n",
    "        for j in range(0,5):\n",
    "            review_tags=driver.find_elements_by_xpath(\"//nav[@class='yFHi8N']\")\n",
    "            for i in review_tags:\n",
    "                review_tags1=i.find_element_by_tag_name(\"a\")\n",
    "                links6.append(review_tags1.get_attribute('href'))\n",
    "                try:\n",
    "                    button=driver.find_element_by_xpath(\"//*[contains(text(), 'Next')]\")\n",
    "                    driver.execute_script(\"arguments[0].click();\", button)\n",
    "                except NoSuchElementException:\n",
    "                    pass\n",
    "                time.sleep(3)\n",
    "    except NoSuchElementException:\n",
    "        pass"
   ]
  },
  {
   "cell_type": "code",
   "execution_count": 43,
   "metadata": {},
   "outputs": [
    {
     "data": {
      "text/plain": [
       "530"
      ]
     },
     "execution_count": 43,
     "metadata": {},
     "output_type": "execute_result"
    }
   ],
   "source": [
    "len(links6)"
   ]
  },
  {
   "cell_type": "code",
   "execution_count": 44,
   "metadata": {},
   "outputs": [],
   "source": [
    "Final_links6 = []\n",
    "for i in links6:\n",
    "    if i not in Final_links6:\n",
    "        Final_links6.append(i)"
   ]
  },
  {
   "cell_type": "code",
   "execution_count": 45,
   "metadata": {},
   "outputs": [
    {
     "data": {
      "text/plain": [
       "302"
      ]
     },
     "execution_count": 45,
     "metadata": {},
     "output_type": "execute_result"
    }
   ],
   "source": [
    "len(Final_links6)"
   ]
  },
  {
   "cell_type": "code",
   "execution_count": 46,
   "metadata": {},
   "outputs": [
    {
     "name": "stderr",
     "output_type": "stream",
     "text": [
      "100%|████████████████████████████████████████████████████████████████████████████████| 302/302 [06:35<00:00,  1.31s/it]\n"
     ]
    }
   ],
   "source": [
    "#running a loop to extract all the required information from url\n",
    "\n",
    "from tqdm import tqdm\n",
    "for i in tqdm(Final_links6):\n",
    "    driver.get(i)\n",
    "    \n",
    "    \n",
    "    for j in driver.find_elements_by_xpath(\"//div[@class='_3LWZlK _1BLPMq' or @class='_3LWZlK _32lA32 _1BLPMq' or @class='_3LWZlK _1rdVr6 _1BLPMq']\"):\n",
    "        rating.append(j.text)\n",
    "            \n",
    "            \n",
    "    for k in driver.find_elements_by_xpath(\"//div[@class='t-ZTKy']/div/div\"):\n",
    "        review.append(k.text.replace('\\n',' '))"
   ]
  },
  {
   "cell_type": "code",
   "execution_count": 47,
   "metadata": {},
   "outputs": [
    {
     "data": {
      "text/plain": [
       "(7960, 7960)"
      ]
     },
     "execution_count": 47,
     "metadata": {},
     "output_type": "execute_result"
    }
   ],
   "source": [
    "len(rating),len(review)"
   ]
  },
  {
   "cell_type": "code",
   "execution_count": 48,
   "metadata": {},
   "outputs": [],
   "source": [
    "productname=['monitor']\n",
    "prolink7=[]\n",
    "links7=[]"
   ]
  },
  {
   "cell_type": "code",
   "execution_count": 49,
   "metadata": {},
   "outputs": [],
   "source": [
    "driver.get(\"https://www.flipkart.com/\")"
   ]
  },
  {
   "cell_type": "code",
   "execution_count": 50,
   "metadata": {},
   "outputs": [],
   "source": [
    "for m in productname:\n",
    "    search = driver. find_element_by_xpath(\"//div[@class='_3OO5Xc']/input\")\n",
    "    search.clear()\n",
    "    search.send_keys(m)\n",
    "    search_btn = driver.find_element_by_xpath(\"//button[@class='L0Z3Pu']\")\n",
    "    search_btn.click()\n",
    "    for j in range(0,10):\n",
    "        time.sleep(2)\n",
    "        hlink=driver.find_elements_by_xpath(\"//a[@class = '_1fQZEK']\")\n",
    "        for i in hlink:\n",
    "            h=i.get_attribute('href')\n",
    "            prolink7.append(h)\n",
    "        button=driver.find_element_by_xpath(\"//*[contains(text(), 'Next')]\")\n",
    "        driver.execute_script(\"arguments[0].click();\", button)\n",
    "        time.sleep(3)\n",
    " #       hlink= None\n",
    "  #      print(\"going to next page\")"
   ]
  },
  {
   "cell_type": "code",
   "execution_count": 51,
   "metadata": {},
   "outputs": [
    {
     "data": {
      "text/plain": [
       "240"
      ]
     },
     "execution_count": 51,
     "metadata": {},
     "output_type": "execute_result"
    }
   ],
   "source": [
    "len(prolink7)"
   ]
  },
  {
   "cell_type": "code",
   "execution_count": 52,
   "metadata": {},
   "outputs": [
    {
     "name": "stderr",
     "output_type": "stream",
     "text": [
      "100%|████████████████████████████████████████████████████████████████████████████████| 400/400 [40:07<00:00,  6.02s/it]\n"
     ]
    }
   ],
   "source": [
    "for a in tqdm(prolink6):    \n",
    "    driver.get(a)\n",
    "    try:\n",
    "        \n",
    "        xt = driver.find_element_by_xpath(\"//div[@class= 'col JOpGWq']/a\")\n",
    "        tt=xt.get_attribute(\"href\")\n",
    "        driver.get(tt)\n",
    "        for j in range(0,5):\n",
    "            review_tags=driver.find_elements_by_xpath(\"//nav[@class='yFHi8N']\")\n",
    "            for i in review_tags:\n",
    "                review_tags1=i.find_element_by_tag_name(\"a\")\n",
    "                links7.append(review_tags1.get_attribute('href'))\n",
    "                try:\n",
    "                    button=driver.find_element_by_xpath(\"//*[contains(text(), 'Next')]\")\n",
    "                    driver.execute_script(\"arguments[0].click();\", button)\n",
    "                except NoSuchElementException:\n",
    "                    pass\n",
    "                time.sleep(3)\n",
    "    except NoSuchElementException:\n",
    "        pass"
   ]
  },
  {
   "cell_type": "code",
   "execution_count": 53,
   "metadata": {},
   "outputs": [
    {
     "data": {
      "text/plain": [
       "525"
      ]
     },
     "execution_count": 53,
     "metadata": {},
     "output_type": "execute_result"
    }
   ],
   "source": [
    "len(links7)"
   ]
  },
  {
   "cell_type": "code",
   "execution_count": 54,
   "metadata": {},
   "outputs": [],
   "source": [
    "Final_links7 = []\n",
    "for i in links7:\n",
    "    if i not in Final_links7:\n",
    "        Final_links7.append(i)"
   ]
  },
  {
   "cell_type": "code",
   "execution_count": 55,
   "metadata": {},
   "outputs": [
    {
     "data": {
      "text/plain": [
       "298"
      ]
     },
     "execution_count": 55,
     "metadata": {},
     "output_type": "execute_result"
    }
   ],
   "source": [
    "len(Final_links7)"
   ]
  },
  {
   "cell_type": "code",
   "execution_count": 56,
   "metadata": {},
   "outputs": [
    {
     "name": "stderr",
     "output_type": "stream",
     "text": [
      "100%|████████████████████████████████████████████████████████████████████████████████| 298/298 [07:06<00:00,  1.43s/it]\n"
     ]
    }
   ],
   "source": [
    "#running a loop to extract all the required information from url\n",
    "\n",
    "from tqdm import tqdm\n",
    "for i in tqdm(Final_links7):\n",
    "    driver.get(i)\n",
    "    \n",
    "    \n",
    "    for j in driver.find_elements_by_xpath(\"//div[@class='_3LWZlK _1BLPMq' or @class='_3LWZlK _32lA32 _1BLPMq' or @class='_3LWZlK _1rdVr6 _1BLPMq']\"):\n",
    "        rating.append(j.text)\n",
    "            \n",
    "            \n",
    "    for k in driver.find_elements_by_xpath(\"//div[@class='t-ZTKy']/div/div\"):\n",
    "        review.append(k.text.replace('\\n',' '))"
   ]
  },
  {
   "cell_type": "code",
   "execution_count": 57,
   "metadata": {},
   "outputs": [
    {
     "data": {
      "text/plain": [
       "(10920, 10920)"
      ]
     },
     "execution_count": 57,
     "metadata": {},
     "output_type": "execute_result"
    }
   ],
   "source": [
    "len(review),len(rating)"
   ]
  },
  {
   "cell_type": "code",
   "execution_count": 58,
   "metadata": {},
   "outputs": [
    {
     "data": {
      "text/html": [
       "<div>\n",
       "<style scoped>\n",
       "    .dataframe tbody tr th:only-of-type {\n",
       "        vertical-align: middle;\n",
       "    }\n",
       "\n",
       "    .dataframe tbody tr th {\n",
       "        vertical-align: top;\n",
       "    }\n",
       "\n",
       "    .dataframe thead th {\n",
       "        text-align: right;\n",
       "    }\n",
       "</style>\n",
       "<table border=\"1\" class=\"dataframe\">\n",
       "  <thead>\n",
       "    <tr style=\"text-align: right;\">\n",
       "      <th></th>\n",
       "      <th>Ratings</th>\n",
       "      <th>Reviews</th>\n",
       "    </tr>\n",
       "  </thead>\n",
       "  <tbody>\n",
       "    <tr>\n",
       "      <th>0</th>\n",
       "      <td>5</td>\n",
       "      <td>After using for a short period of time, it giv...</td>\n",
       "    </tr>\n",
       "    <tr>\n",
       "      <th>1</th>\n",
       "      <td>5</td>\n",
       "      <td>Best camara at this price point and sony have ...</td>\n",
       "    </tr>\n",
       "    <tr>\n",
       "      <th>2</th>\n",
       "      <td>3</td>\n",
       "      <td>Pros: 1. Features/Price in Camera body 2. EVF,...</td>\n",
       "    </tr>\n",
       "    <tr>\n",
       "      <th>3</th>\n",
       "      <td>5</td>\n",
       "      <td>I was owning D5100 and was thinking to upgrade...</td>\n",
       "    </tr>\n",
       "    <tr>\n",
       "      <th>4</th>\n",
       "      <td>4</td>\n",
       "      <td>I was more reviewed after purchased this camer...</td>\n",
       "    </tr>\n",
       "    <tr>\n",
       "      <th>...</th>\n",
       "      <td>...</td>\n",
       "      <td>...</td>\n",
       "    </tr>\n",
       "    <tr>\n",
       "      <th>10915</th>\n",
       "      <td>4</td>\n",
       "      <td>Hello everyone i am ganesh Gurudu from mumbai....</td>\n",
       "    </tr>\n",
       "    <tr>\n",
       "      <th>10916</th>\n",
       "      <td>5</td>\n",
       "      <td>Previously I had a Netgear but replaced it wit...</td>\n",
       "    </tr>\n",
       "    <tr>\n",
       "      <th>10917</th>\n",
       "      <td>5</td>\n",
       "      <td>Very good signal in my iphone and ipad in acro...</td>\n",
       "    </tr>\n",
       "    <tr>\n",
       "      <th>10918</th>\n",
       "      <td>1</td>\n",
       "      <td>Bad product. Wrong information and very lousy ...</td>\n",
       "    </tr>\n",
       "    <tr>\n",
       "      <th>10919</th>\n",
       "      <td>4</td>\n",
       "      <td>Setting up is seamless I get signal in all roo...</td>\n",
       "    </tr>\n",
       "  </tbody>\n",
       "</table>\n",
       "<p>10920 rows × 2 columns</p>\n",
       "</div>"
      ],
      "text/plain": [
       "      Ratings                                            Reviews\n",
       "0           5  After using for a short period of time, it giv...\n",
       "1           5  Best camara at this price point and sony have ...\n",
       "2           3  Pros: 1. Features/Price in Camera body 2. EVF,...\n",
       "3           5  I was owning D5100 and was thinking to upgrade...\n",
       "4           4  I was more reviewed after purchased this camer...\n",
       "...       ...                                                ...\n",
       "10915       4  Hello everyone i am ganesh Gurudu from mumbai....\n",
       "10916       5  Previously I had a Netgear but replaced it wit...\n",
       "10917       5  Very good signal in my iphone and ipad in acro...\n",
       "10918       1  Bad product. Wrong information and very lousy ...\n",
       "10919       4  Setting up is seamless I get signal in all roo...\n",
       "\n",
       "[10920 rows x 2 columns]"
      ]
     },
     "execution_count": 58,
     "metadata": {},
     "output_type": "execute_result"
    }
   ],
   "source": [
    "df3=pd.DataFrame()\n",
    "df3['Ratings']=rating\n",
    "df3['Reviews']=review\n",
    "df3"
   ]
  },
  {
   "cell_type": "code",
   "execution_count": 59,
   "metadata": {},
   "outputs": [
    {
     "data": {
      "text/plain": [
       "5    6395\n",
       "4    2097\n",
       "1    1329\n",
       "3     656\n",
       "2     443\n",
       "Name: Ratings, dtype: int64"
      ]
     },
     "execution_count": 59,
     "metadata": {},
     "output_type": "execute_result"
    }
   ],
   "source": [
    "df3['Ratings'].value_counts()"
   ]
  },
  {
   "cell_type": "code",
   "execution_count": 60,
   "metadata": {},
   "outputs": [],
   "source": [
    "df3.to_csv(\"review_rating_df4.csv\")"
   ]
  },
  {
   "cell_type": "code",
   "execution_count": 13,
   "metadata": {},
   "outputs": [],
   "source": [
    "productname=['smart watches']\n",
    "prolink4=[]\n",
    "links4=[]\n",
    "review=[]\n",
    "rating=[]"
   ]
  },
  {
   "cell_type": "code",
   "execution_count": 14,
   "metadata": {},
   "outputs": [],
   "source": [
    "driver=webdriver.Chrome(\"D:\\chromedriver_win32 (1)\\chromedriver.exe\")\n",
    "driver.get(\"https://www.flipkart.com/\")"
   ]
  },
  {
   "cell_type": "code",
   "execution_count": 16,
   "metadata": {},
   "outputs": [],
   "source": [
    "for m in productname:\n",
    "    search = driver. find_element_by_xpath(\"//div[@class='_3OO5Xc']/input\")\n",
    "    search.clear()\n",
    "    search.send_keys(m)\n",
    "    search_btn = driver.find_element_by_xpath(\"//button[@class='L0Z3Pu']\")\n",
    "    search_btn.click()\n",
    "    for j in range(0,20):\n",
    "        time.sleep(2)\n",
    "        hlink=driver.find_elements_by_xpath(\"//a[@class = '_1fQZEK']\")\n",
    "        for i in hlink:\n",
    "            h=i.get_attribute('href')\n",
    "            prolink4.append(h)\n",
    "        button=driver.find_element_by_xpath(\"//*[contains(text(), 'Next')]\")\n",
    "        driver.execute_script(\"arguments[0].click();\", button)\n",
    "        time.sleep(3)\n",
    " #       hlink= None\n",
    "  #      print(\"going to next page\")"
   ]
  },
  {
   "cell_type": "code",
   "execution_count": 17,
   "metadata": {},
   "outputs": [
    {
     "data": {
      "text/plain": [
       "480"
      ]
     },
     "execution_count": 17,
     "metadata": {},
     "output_type": "execute_result"
    }
   ],
   "source": [
    "len(prolink4)"
   ]
  },
  {
   "cell_type": "code",
   "execution_count": 19,
   "metadata": {},
   "outputs": [
    {
     "data": {
      "text/plain": [
       "0"
      ]
     },
     "execution_count": 19,
     "metadata": {},
     "output_type": "execute_result"
    }
   ],
   "source": [
    "links4=[]\n",
    "len(links4)"
   ]
  },
  {
   "cell_type": "code",
   "execution_count": 20,
   "metadata": {},
   "outputs": [
    {
     "name": "stderr",
     "output_type": "stream",
     "text": [
      "100%|██████████████████████████████████████████████████████████████████████████████| 480/480 [1:32:10<00:00, 11.52s/it]\n"
     ]
    }
   ],
   "source": [
    "for a in tqdm(prolink4):    \n",
    "    driver.get(a)\n",
    "    try:\n",
    "        \n",
    "        xt = driver.find_element_by_xpath(\"//div[@class= 'col JOpGWq']/a\")\n",
    "        tt=xt.get_attribute(\"href\")\n",
    "        driver.get(tt)\n",
    "        for j in range(0,10):\n",
    "            review_tags=driver.find_elements_by_xpath(\"//nav[@class='yFHi8N']\")\n",
    "            for i in review_tags:\n",
    "                review_tags1=i.find_element_by_tag_name(\"a\")\n",
    "                links4.append(review_tags1.get_attribute('href'))\n",
    "                try:\n",
    "                    button=driver.find_element_by_xpath(\"//*[contains(text(), 'Next')]\")\n",
    "                    driver.execute_script(\"arguments[0].click();\", button)\n",
    "                except NoSuchElementException:\n",
    "                    pass\n",
    "                time.sleep(3)\n",
    "    except NoSuchElementException:\n",
    "        pass"
   ]
  },
  {
   "cell_type": "code",
   "execution_count": 21,
   "metadata": {},
   "outputs": [
    {
     "data": {
      "text/plain": [
       "1450"
      ]
     },
     "execution_count": 21,
     "metadata": {},
     "output_type": "execute_result"
    }
   ],
   "source": [
    "len(links4)"
   ]
  },
  {
   "cell_type": "code",
   "execution_count": 22,
   "metadata": {},
   "outputs": [],
   "source": [
    "Final_links4 = []\n",
    "for i in links4:\n",
    "    if i not in Final_links4:\n",
    "        Final_links4.append(i)"
   ]
  },
  {
   "cell_type": "code",
   "execution_count": 23,
   "metadata": {},
   "outputs": [
    {
     "data": {
      "text/plain": [
       "589"
      ]
     },
     "execution_count": 23,
     "metadata": {},
     "output_type": "execute_result"
    }
   ],
   "source": [
    "len(Final_links4)"
   ]
  },
  {
   "cell_type": "code",
   "execution_count": 24,
   "metadata": {},
   "outputs": [
    {
     "name": "stderr",
     "output_type": "stream",
     "text": [
      "100%|████████████████████████████████████████████████████████████████████████████████| 589/589 [13:23<00:00,  1.36s/it]\n"
     ]
    }
   ],
   "source": [
    "#running a loop to extract all the required information from url\n",
    "\n",
    "from tqdm import tqdm\n",
    "for i in tqdm(Final_links4):\n",
    "    driver.get(i)\n",
    "    \n",
    "    \n",
    "    for j in driver.find_elements_by_xpath(\"//div[@class='_3LWZlK _1BLPMq' or @class='_3LWZlK _32lA32 _1BLPMq' or @class='_3LWZlK _1rdVr6 _1BLPMq']\"):\n",
    "        rating.append(j.text)\n",
    "            \n",
    "            \n",
    "    for k in driver.find_elements_by_xpath(\"//div[@class='t-ZTKy']/div/div\"):\n",
    "        review.append(k.text.replace('\\n',' '))"
   ]
  },
  {
   "cell_type": "code",
   "execution_count": 25,
   "metadata": {},
   "outputs": [
    {
     "data": {
      "text/plain": [
       "(5890, 5890)"
      ]
     },
     "execution_count": 25,
     "metadata": {},
     "output_type": "execute_result"
    }
   ],
   "source": [
    "len(rating),len(review)"
   ]
  },
  {
   "cell_type": "code",
   "execution_count": 36,
   "metadata": {},
   "outputs": [
    {
     "data": {
      "text/plain": [
       "'1'"
      ]
     },
     "execution_count": 36,
     "metadata": {},
     "output_type": "execute_result"
    }
   ],
   "source": [
    "rating[5889]"
   ]
  },
  {
   "cell_type": "code",
   "execution_count": 26,
   "metadata": {},
   "outputs": [],
   "source": [
    "productname=['home theater']\n",
    "prolink5=[]\n",
    "links5=[]"
   ]
  },
  {
   "cell_type": "code",
   "execution_count": 27,
   "metadata": {},
   "outputs": [],
   "source": [
    "driver.get(\"https://www.flipkart.com/\")"
   ]
  },
  {
   "cell_type": "code",
   "execution_count": 28,
   "metadata": {},
   "outputs": [],
   "source": [
    "for m in productname:\n",
    "    search = driver. find_element_by_xpath(\"//div[@class='_3OO5Xc']/input\")\n",
    "    search.clear()\n",
    "    search.send_keys(m)\n",
    "    search_btn = driver.find_element_by_xpath(\"//button[@class='L0Z3Pu']\")\n",
    "    search_btn.click()\n",
    "    for j in range(0,20):\n",
    "        time.sleep(2)\n",
    "        hlink=driver.find_elements_by_xpath(\"//a[@class = '_2rpwqI']\")\n",
    "        for i in hlink:\n",
    "            h=i.get_attribute('href')\n",
    "            prolink5.append(h)\n",
    "        button=driver.find_element_by_xpath(\"//*[contains(text(), 'Next')]\")\n",
    "        driver.execute_script(\"arguments[0].click();\", button)\n",
    "        time.sleep(3)\n",
    " #       hlink= None\n",
    "  #      print(\"going to next page\")"
   ]
  },
  {
   "cell_type": "code",
   "execution_count": 29,
   "metadata": {},
   "outputs": [
    {
     "data": {
      "text/plain": [
       "800"
      ]
     },
     "execution_count": 29,
     "metadata": {},
     "output_type": "execute_result"
    }
   ],
   "source": [
    "len(prolink5)"
   ]
  },
  {
   "cell_type": "code",
   "execution_count": 30,
   "metadata": {},
   "outputs": [
    {
     "name": "stderr",
     "output_type": "stream",
     "text": [
      "100%|██████████████████████████████████████████████████████████████████████████████| 800/800 [2:33:20<00:00, 11.50s/it]\n"
     ]
    }
   ],
   "source": [
    "for a in tqdm(prolink5):    \n",
    "    driver.get(a)\n",
    "    try:\n",
    "        \n",
    "        xt = driver.find_element_by_xpath(\"//div[@class= 'col JOpGWq']/a\")\n",
    "        tt=xt.get_attribute(\"href\")\n",
    "        driver.get(tt)\n",
    "        for j in range(0,10):\n",
    "            review_tags=driver.find_elements_by_xpath(\"//nav[@class='yFHi8N']\")\n",
    "            for i in review_tags:\n",
    "                review_tags1=i.find_element_by_tag_name(\"a\")\n",
    "                links5.append(review_tags1.get_attribute('href'))\n",
    "                try:\n",
    "                    button=driver.find_element_by_xpath(\"//*[contains(text(), 'Next')]\")\n",
    "                    driver.execute_script(\"arguments[0].click();\", button)\n",
    "                except NoSuchElementException:\n",
    "                    pass\n",
    "                time.sleep(3)\n",
    "    except NoSuchElementException:\n",
    "        pass"
   ]
  },
  {
   "cell_type": "code",
   "execution_count": 31,
   "metadata": {},
   "outputs": [
    {
     "data": {
      "text/plain": [
       "2460"
      ]
     },
     "execution_count": 31,
     "metadata": {},
     "output_type": "execute_result"
    }
   ],
   "source": [
    "len(links5)"
   ]
  },
  {
   "cell_type": "code",
   "execution_count": 32,
   "metadata": {},
   "outputs": [],
   "source": [
    "Final_links5 = []\n",
    "for i in links5:\n",
    "    if i not in Final_links5:\n",
    "        Final_links5.append(i)"
   ]
  },
  {
   "cell_type": "code",
   "execution_count": 33,
   "metadata": {},
   "outputs": [
    {
     "data": {
      "text/plain": [
       "1142"
      ]
     },
     "execution_count": 33,
     "metadata": {},
     "output_type": "execute_result"
    }
   ],
   "source": [
    "len(Final_links5)"
   ]
  },
  {
   "cell_type": "code",
   "execution_count": 43,
   "metadata": {},
   "outputs": [
    {
     "name": "stderr",
     "output_type": "stream",
     "text": [
      "100%|██████████████████████████████████████████████████████████████████████████████| 1142/1142 [24:23<00:00,  1.28s/it]\n"
     ]
    }
   ],
   "source": [
    "#running a loop to extract all the required information from url\n",
    "\n",
    "from tqdm import tqdm\n",
    "for i in tqdm(Final_links5):\n",
    "    driver.get(i)\n",
    "    \n",
    "    \n",
    "    for j in driver.find_elements_by_xpath(\"//div[@class='_3LWZlK _1BLPMq' or @class='_3LWZlK _32lA32 _1BLPMq' or @class='_3LWZlK _1rdVr6 _1BLPMq']\"):\n",
    "        rating.append(j.text)\n",
    "            \n",
    "            \n",
    "    for k in driver.find_elements_by_xpath(\"//div[@class='t-ZTKy']/div/div\"):\n",
    "        review.append(k.text.replace('\\n',' '))"
   ]
  },
  {
   "cell_type": "code",
   "execution_count": 44,
   "metadata": {},
   "outputs": [
    {
     "data": {
      "text/plain": [
       "(17300, 17300)"
      ]
     },
     "execution_count": 44,
     "metadata": {},
     "output_type": "execute_result"
    }
   ],
   "source": [
    "len(review),len(rating)"
   ]
  },
  {
   "cell_type": "code",
   "execution_count": 45,
   "metadata": {},
   "outputs": [
    {
     "data": {
      "text/html": [
       "<div>\n",
       "<style scoped>\n",
       "    .dataframe tbody tr th:only-of-type {\n",
       "        vertical-align: middle;\n",
       "    }\n",
       "\n",
       "    .dataframe tbody tr th {\n",
       "        vertical-align: top;\n",
       "    }\n",
       "\n",
       "    .dataframe thead th {\n",
       "        text-align: right;\n",
       "    }\n",
       "</style>\n",
       "<table border=\"1\" class=\"dataframe\">\n",
       "  <thead>\n",
       "    <tr style=\"text-align: right;\">\n",
       "      <th></th>\n",
       "      <th>Ratings</th>\n",
       "      <th>Reviews</th>\n",
       "    </tr>\n",
       "  </thead>\n",
       "  <tbody>\n",
       "    <tr>\n",
       "      <th>0</th>\n",
       "      <td>5</td>\n",
       "      <td>Thank you for delivery it just in one day . I ...</td>\n",
       "    </tr>\n",
       "    <tr>\n",
       "      <th>1</th>\n",
       "      <td>5</td>\n",
       "      <td>Superb Quality , Nothing like apple , No need ...</td>\n",
       "    </tr>\n",
       "    <tr>\n",
       "      <th>2</th>\n",
       "      <td>5</td>\n",
       "      <td>Apple does seem to release stable product over...</td>\n",
       "    </tr>\n",
       "    <tr>\n",
       "      <th>3</th>\n",
       "      <td>5</td>\n",
       "      <td>My First Apple Watch!!! Simply Amazing. I used...</td>\n",
       "    </tr>\n",
       "    <tr>\n",
       "      <th>4</th>\n",
       "      <td>5</td>\n",
       "      <td>Seriously I can’t express my inner feelings......</td>\n",
       "    </tr>\n",
       "    <tr>\n",
       "      <th>...</th>\n",
       "      <td>...</td>\n",
       "      <td>...</td>\n",
       "    </tr>\n",
       "    <tr>\n",
       "      <th>17295</th>\n",
       "      <td>5</td>\n",
       "      <td>This is varrast product</td>\n",
       "    </tr>\n",
       "    <tr>\n",
       "      <th>17296</th>\n",
       "      <td>1</td>\n",
       "      <td>Worst product no sound quality and not connect...</td>\n",
       "    </tr>\n",
       "    <tr>\n",
       "      <th>17297</th>\n",
       "      <td>5</td>\n",
       "      <td>Super 👌</td>\n",
       "    </tr>\n",
       "    <tr>\n",
       "      <th>17298</th>\n",
       "      <td>1</td>\n",
       "      <td>Very bad very very bad remote is not working bad</td>\n",
       "    </tr>\n",
       "    <tr>\n",
       "      <th>17299</th>\n",
       "      <td>4</td>\n",
       "      <td>Nice</td>\n",
       "    </tr>\n",
       "  </tbody>\n",
       "</table>\n",
       "<p>17300 rows × 2 columns</p>\n",
       "</div>"
      ],
      "text/plain": [
       "      Ratings                                            Reviews\n",
       "0           5  Thank you for delivery it just in one day . I ...\n",
       "1           5  Superb Quality , Nothing like apple , No need ...\n",
       "2           5  Apple does seem to release stable product over...\n",
       "3           5  My First Apple Watch!!! Simply Amazing. I used...\n",
       "4           5  Seriously I can’t express my inner feelings......\n",
       "...       ...                                                ...\n",
       "17295       5                            This is varrast product\n",
       "17296       1  Worst product no sound quality and not connect...\n",
       "17297       5                                            Super 👌\n",
       "17298       1   Very bad very very bad remote is not working bad\n",
       "17299       4                                               Nice\n",
       "\n",
       "[17300 rows x 2 columns]"
      ]
     },
     "execution_count": 45,
     "metadata": {},
     "output_type": "execute_result"
    }
   ],
   "source": [
    "df3=pd.DataFrame()\n",
    "df3['Ratings']=rating\n",
    "df3['Reviews']=review\n",
    "df3"
   ]
  },
  {
   "cell_type": "code",
   "execution_count": 46,
   "metadata": {},
   "outputs": [
    {
     "data": {
      "text/plain": [
       "5    9042\n",
       "1    3141\n",
       "4    2861\n",
       "3    1395\n",
       "2     861\n",
       "Name: Ratings, dtype: int64"
      ]
     },
     "execution_count": 46,
     "metadata": {},
     "output_type": "execute_result"
    }
   ],
   "source": [
    "df3['Ratings'].value_counts()"
   ]
  },
  {
   "cell_type": "code",
   "execution_count": 47,
   "metadata": {},
   "outputs": [],
   "source": [
    "df3.to_csv(\"review_rating_df5.csv\")"
   ]
  },
  {
   "cell_type": "code",
   "execution_count": 2,
   "metadata": {},
   "outputs": [
    {
     "data": {
      "text/html": [
       "<div>\n",
       "<style scoped>\n",
       "    .dataframe tbody tr th:only-of-type {\n",
       "        vertical-align: middle;\n",
       "    }\n",
       "\n",
       "    .dataframe tbody tr th {\n",
       "        vertical-align: top;\n",
       "    }\n",
       "\n",
       "    .dataframe thead th {\n",
       "        text-align: right;\n",
       "    }\n",
       "</style>\n",
       "<table border=\"1\" class=\"dataframe\">\n",
       "  <thead>\n",
       "    <tr style=\"text-align: right;\">\n",
       "      <th></th>\n",
       "      <th>Unnamed: 0</th>\n",
       "      <th>Ratings</th>\n",
       "      <th>Reviews</th>\n",
       "    </tr>\n",
       "  </thead>\n",
       "  <tbody>\n",
       "    <tr>\n",
       "      <th>0</th>\n",
       "      <td>0</td>\n",
       "      <td>4</td>\n",
       "      <td>Product is good but the fan is running continu...</td>\n",
       "    </tr>\n",
       "    <tr>\n",
       "      <th>1</th>\n",
       "      <td>1</td>\n",
       "      <td>5</td>\n",
       "      <td>It's just amazing! Let me get the details here...</td>\n",
       "    </tr>\n",
       "    <tr>\n",
       "      <th>2</th>\n",
       "      <td>2</td>\n",
       "      <td>5</td>\n",
       "      <td>Very good It's a beast at the price of 40k Lov...</td>\n",
       "    </tr>\n",
       "    <tr>\n",
       "      <th>3</th>\n",
       "      <td>3</td>\n",
       "      <td>5</td>\n",
       "      <td>It's amazing! Best is this category. I just bo...</td>\n",
       "    </tr>\n",
       "    <tr>\n",
       "      <th>4</th>\n",
       "      <td>4</td>\n",
       "      <td>4</td>\n",
       "      <td>Thanks Flipkart for fast delivery in our lockd...</td>\n",
       "    </tr>\n",
       "    <tr>\n",
       "      <th>...</th>\n",
       "      <td>...</td>\n",
       "      <td>...</td>\n",
       "      <td>...</td>\n",
       "    </tr>\n",
       "    <tr>\n",
       "      <th>17295</th>\n",
       "      <td>17295</td>\n",
       "      <td>5</td>\n",
       "      <td>This is varrast product</td>\n",
       "    </tr>\n",
       "    <tr>\n",
       "      <th>17296</th>\n",
       "      <td>17296</td>\n",
       "      <td>1</td>\n",
       "      <td>Worst product no sound quality and not connect...</td>\n",
       "    </tr>\n",
       "    <tr>\n",
       "      <th>17297</th>\n",
       "      <td>17297</td>\n",
       "      <td>5</td>\n",
       "      <td>Super 👌</td>\n",
       "    </tr>\n",
       "    <tr>\n",
       "      <th>17298</th>\n",
       "      <td>17298</td>\n",
       "      <td>1</td>\n",
       "      <td>Very bad very very bad remote is not working bad</td>\n",
       "    </tr>\n",
       "    <tr>\n",
       "      <th>17299</th>\n",
       "      <td>17299</td>\n",
       "      <td>4</td>\n",
       "      <td>Nice</td>\n",
       "    </tr>\n",
       "  </tbody>\n",
       "</table>\n",
       "<p>58535 rows × 3 columns</p>\n",
       "</div>"
      ],
      "text/plain": [
       "       Unnamed: 0  Ratings                                            Reviews\n",
       "0               0        4  Product is good but the fan is running continu...\n",
       "1               1        5  It's just amazing! Let me get the details here...\n",
       "2               2        5  Very good It's a beast at the price of 40k Lov...\n",
       "3               3        5  It's amazing! Best is this category. I just bo...\n",
       "4               4        4  Thanks Flipkart for fast delivery in our lockd...\n",
       "...           ...      ...                                                ...\n",
       "17295       17295        5                            This is varrast product\n",
       "17296       17296        1  Worst product no sound quality and not connect...\n",
       "17297       17297        5                                            Super 👌\n",
       "17298       17298        1   Very bad very very bad remote is not working bad\n",
       "17299       17299        4                                               Nice\n",
       "\n",
       "[58535 rows x 3 columns]"
      ]
     },
     "execution_count": 2,
     "metadata": {},
     "output_type": "execute_result"
    }
   ],
   "source": [
    "import pandas as pd\n",
    "Rating1=pd.read_csv(\"review_rating_df3.csv\")\n",
    "Rating2=pd.read_csv(\"review_rating_df4.csv\")\n",
    "Rating3=pd.read_csv(\"review_rating_df5.csv\")\n",
    "Rating_Final=pd.concat([Rating1,Rating2,Rating3],axis=0)\n",
    "Rating_Final"
   ]
  },
  {
   "cell_type": "code",
   "execution_count": 3,
   "metadata": {},
   "outputs": [
    {
     "data": {
      "text/plain": [
       "5    33910\n",
       "4    11686\n",
       "1     6682\n",
       "3     4093\n",
       "2     2164\n",
       "Name: Ratings, dtype: int64"
      ]
     },
     "execution_count": 3,
     "metadata": {},
     "output_type": "execute_result"
    }
   ],
   "source": [
    "Rating_Final['Ratings'].value_counts()"
   ]
  },
  {
   "cell_type": "code",
   "execution_count": 4,
   "metadata": {},
   "outputs": [],
   "source": [
    "Rating_Final.to_csv(\"flipkart_ratings_final.csv\",index=False)"
   ]
  },
  {
   "cell_type": "code",
   "execution_count": null,
   "metadata": {},
   "outputs": [],
   "source": []
  }
 ],
 "metadata": {
  "kernelspec": {
   "display_name": "Python 3",
   "language": "python",
   "name": "python3"
  },
  "language_info": {
   "codemirror_mode": {
    "name": "ipython",
    "version": 3
   },
   "file_extension": ".py",
   "mimetype": "text/x-python",
   "name": "python",
   "nbconvert_exporter": "python",
   "pygments_lexer": "ipython3",
   "version": "3.8.3"
  }
 },
 "nbformat": 4,
 "nbformat_minor": 4
}
