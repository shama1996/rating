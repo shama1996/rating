{
 "cells": [
  {
   "cell_type": "code",
   "execution_count": 5,
   "metadata": {},
   "outputs": [
    {
     "name": "stderr",
     "output_type": "stream",
     "text": [
      "C:\\Users\\HP\\anaconda3\\lib\\site-packages\\gensim\\similarities\\__init__.py:15: UserWarning: The gensim.similarities.levenshtein submodule is disabled, because the optional Levenshtein package <https://pypi.org/project/python-Levenshtein/> is unavailable. Install Levenhstein (e.g. `pip install python-Levenshtein`) to suppress this warning.\n",
      "  warnings.warn(msg)\n"
     ]
    }
   ],
   "source": [
    "# Importing all the libraries\n",
    "\n",
    "import pandas as pd\n",
    "import numpy as np\n",
    "import seaborn as sns\n",
    "import matplotlib.pyplot as plt\n",
    "import string\n",
    "import re\n",
    "from collections import Counter\n",
    "# packages from gensim\n",
    "from gensim import corpora\n",
    "from gensim.utils import simple_preprocess\n",
    "from gensim.parsing.preprocessing import STOPWORDS\n",
    "\n",
    "# packages from sklearn\n",
    "from sklearn.feature_extraction.text import TfidfVectorizer\n",
    "from sklearn.feature_extraction.text import CountVectorizer\n",
    "\n",
    "#packages from nltk\n",
    "import nltk\n",
    "from nltk.corpus import wordnet, stopwords\n",
    "from nltk.tokenize import word_tokenize\n",
    "from nltk.stem import WordNetLemmatizer, SnowballStemmer\n",
    "\n",
    "from nltk import pos_tag\n",
    "\n",
    "import warnings\n",
    "warnings.filterwarnings('ignore')"
   ]
  },
  {
   "cell_type": "code",
   "execution_count": 6,
   "metadata": {},
   "outputs": [
    {
     "data": {
      "text/html": [
       "<div>\n",
       "<style scoped>\n",
       "    .dataframe tbody tr th:only-of-type {\n",
       "        vertical-align: middle;\n",
       "    }\n",
       "\n",
       "    .dataframe tbody tr th {\n",
       "        vertical-align: top;\n",
       "    }\n",
       "\n",
       "    .dataframe thead th {\n",
       "        text-align: right;\n",
       "    }\n",
       "</style>\n",
       "<table border=\"1\" class=\"dataframe\">\n",
       "  <thead>\n",
       "    <tr style=\"text-align: right;\">\n",
       "      <th></th>\n",
       "      <th>Unnamed: 0</th>\n",
       "      <th>Rating</th>\n",
       "      <th>Review</th>\n",
       "    </tr>\n",
       "  </thead>\n",
       "  <tbody>\n",
       "    <tr>\n",
       "      <th>0</th>\n",
       "      <td>0</td>\n",
       "      <td>1.0 out of 5 stars</td>\n",
       "      <td>Pros and Cons. But I think it's a cool laptop....</td>\n",
       "    </tr>\n",
       "    <tr>\n",
       "      <th>1</th>\n",
       "      <td>1</td>\n",
       "      <td>5.0 out of 5 stars</td>\n",
       "      <td>Just opened, I'm sure the computer is great, b...</td>\n",
       "    </tr>\n",
       "    <tr>\n",
       "      <th>2</th>\n",
       "      <td>2</td>\n",
       "      <td>5.0 out of 5 stars</td>\n",
       "      <td>The Microsoft Office was only free for 30 days...</td>\n",
       "    </tr>\n",
       "    <tr>\n",
       "      <th>3</th>\n",
       "      <td>3</td>\n",
       "      <td>4.0 out of 5 stars</td>\n",
       "      <td>This computer is NOT for gaming or gamers. It ...</td>\n",
       "    </tr>\n",
       "    <tr>\n",
       "      <th>4</th>\n",
       "      <td>4</td>\n",
       "      <td>1.0 out of 5 stars</td>\n",
       "      <td>Perfect size. Not too big or small. Very fast ...</td>\n",
       "    </tr>\n",
       "  </tbody>\n",
       "</table>\n",
       "</div>"
      ],
      "text/plain": [
       "   Unnamed: 0              Rating  \\\n",
       "0           0  1.0 out of 5 stars   \n",
       "1           1  5.0 out of 5 stars   \n",
       "2           2  5.0 out of 5 stars   \n",
       "3           3  4.0 out of 5 stars   \n",
       "4           4  1.0 out of 5 stars   \n",
       "\n",
       "                                              Review  \n",
       "0  Pros and Cons. But I think it's a cool laptop....  \n",
       "1  Just opened, I'm sure the computer is great, b...  \n",
       "2  The Microsoft Office was only free for 30 days...  \n",
       "3  This computer is NOT for gaming or gamers. It ...  \n",
       "4  Perfect size. Not too big or small. Very fast ...  "
      ]
     },
     "execution_count": 6,
     "metadata": {},
     "output_type": "execute_result"
    }
   ],
   "source": [
    "data = pd.read_csv('Ratings_Prediction_Data_New')\n",
    "data.head()"
   ]
  },
  {
   "cell_type": "code",
   "execution_count": 7,
   "metadata": {},
   "outputs": [],
   "source": [
    "data.drop('Unnamed: 0',axis=1,inplace=True)"
   ]
  },
  {
   "cell_type": "code",
   "execution_count": 8,
   "metadata": {},
   "outputs": [
    {
     "name": "stdout",
     "output_type": "stream",
     "text": [
      "Shape of the Dataset is: (1027, 2)\n"
     ]
    }
   ],
   "source": [
    "print('Shape of the Dataset is:', data.shape)"
   ]
  },
  {
   "cell_type": "code",
   "execution_count": 9,
   "metadata": {},
   "outputs": [
    {
     "name": "stdout",
     "output_type": "stream",
     "text": [
      "<class 'pandas.core.frame.DataFrame'>\n",
      "RangeIndex: 1027 entries, 0 to 1026\n",
      "Data columns (total 2 columns):\n",
      " #   Column  Non-Null Count  Dtype \n",
      "---  ------  --------------  ----- \n",
      " 0   Rating  1027 non-null   object\n",
      " 1   Review  1027 non-null   object\n",
      "dtypes: object(2)\n",
      "memory usage: 16.2+ KB\n"
     ]
    }
   ],
   "source": [
    "data.info()"
   ]
  },
  {
   "cell_type": "code",
   "execution_count": 10,
   "metadata": {},
   "outputs": [
    {
     "data": {
      "text/plain": [
       "Rating    0\n",
       "Review    0\n",
       "dtype: int64"
      ]
     },
     "execution_count": 10,
     "metadata": {},
     "output_type": "execute_result"
    }
   ],
   "source": [
    "data.isnull().sum()"
   ]
  },
  {
   "cell_type": "code",
   "execution_count": 11,
   "metadata": {},
   "outputs": [
    {
     "data": {
      "text/plain": [
       "<matplotlib.axes._subplots.AxesSubplot at 0x1e866b18b80>"
      ]
     },
     "execution_count": 11,
     "metadata": {},
     "output_type": "execute_result"
    },
    {
     "data": {
      "image/png": "[encoded data removed]",
      "text/plain": [
       "<Figure size 432x288 with 2 Axes>"
      ]
     },
     "metadata": {
      "needs_background": "light"
     },
     "output_type": "display_data"
    }
   ],
   "source": [
    "#checking null values using heatmap\n",
    "sns.heatmap(data.isnull())"
   ]
  },
  {
   "cell_type": "code",
   "execution_count": 12,
   "metadata": {},
   "outputs": [
    {
     "name": "stdout",
     "output_type": "stream",
     "text": [
      "Number of unique values in Rating : 10\n"
     ]
    }
   ],
   "source": [
    "print('Number of unique values in Rating :',data['Rating'].nunique())"
   ]
  },
  {
   "cell_type": "code",
   "execution_count": 13,
   "metadata": {},
   "outputs": [
    {
     "data": {
      "image/png": "[encoded data removed]",
      "text/plain": [
       "<Figure size 720x432 with 1 Axes>"
      ]
     },
     "metadata": {
      "needs_background": "light"
     },
     "output_type": "display_data"
    }
   ],
   "source": [
    "plt.figure(figsize=(10,6))\n",
    "sns.countplot(data['Rating'])\n",
    "plt.xticks(rotation=20)\n",
    "plt.show()"
   ]
  },
  {
   "cell_type": "code",
   "execution_count": 14,
   "metadata": {},
   "outputs": [
    {
     "name": "stdout",
     "output_type": "stream",
     "text": [
      "Number of unique values in Rating : 5.0 out of 5 stars    320\n",
      "5                     306\n",
      "4                     142\n",
      "1.0 out of 5 stars     73\n",
      "4.0 out of 5 stars     69\n",
      "3.0 out of 5 stars     35\n",
      "2.0 out of 5 stars     30\n",
      "3                      25\n",
      "1                      22\n",
      "2                       5\n",
      "Name: Rating, dtype: int64\n"
     ]
    }
   ],
   "source": [
    "print('Number of unique values in Rating :',data['Rating'].value_counts())"
   ]
  },
  {
   "cell_type": "code",
   "execution_count": 15,
   "metadata": {},
   "outputs": [],
   "source": [
    "#Label coding \n",
    "data['Rating'].replace({'1.0 out of 5 stars':1,'2.0 out of 5 stars':2,'3.0 out of 5 stars':3,'4.0 out of 5 stars':4,'5.0 out of 5 stars':5},inplace=True)"
   ]
  },
  {
   "cell_type": "code",
   "execution_count": 16,
   "metadata": {},
   "outputs": [
    {
     "name": "stdout",
     "output_type": "stream",
     "text": [
      "Number of unique values in Rating : 5    320\n",
      "5    306\n",
      "4    142\n",
      "1     73\n",
      "4     69\n",
      "3     35\n",
      "2     30\n",
      "3     25\n",
      "1     22\n",
      "2      5\n",
      "Name: Rating, dtype: int64\n"
     ]
    }
   ],
   "source": [
    "print('Number of unique values in Rating :',data['Rating'].value_counts())"
   ]
  },
  {
   "cell_type": "code",
   "execution_count": 17,
   "metadata": {},
   "outputs": [
    {
     "name": "stdout",
     "output_type": "stream",
     "text": [
      "<class 'pandas.core.frame.DataFrame'>\n",
      "RangeIndex: 1027 entries, 0 to 1026\n",
      "Data columns (total 2 columns):\n",
      " #   Column  Non-Null Count  Dtype \n",
      "---  ------  --------------  ----- \n",
      " 0   Rating  1027 non-null   object\n",
      " 1   Review  1027 non-null   object\n",
      "dtypes: object(2)\n",
      "memory usage: 16.2+ KB\n"
     ]
    }
   ],
   "source": [
    "data.info()"
   ]
  },
  {
   "cell_type": "code",
   "execution_count": 19,
   "metadata": {},
   "outputs": [],
   "source": [
    "from sklearn.preprocessing import LabelEncoder\n",
    "le=LabelEncoder()\n",
    "data['Rating']=le.fit_transform(data['Rating'].astype(str)) "
   ]
  },
  {
   "cell_type": "code",
   "execution_count": 20,
   "metadata": {},
   "outputs": [
    {
     "data": {
      "text/html": [
       "<div>\n",
       "<style scoped>\n",
       "    .dataframe tbody tr th:only-of-type {\n",
       "        vertical-align: middle;\n",
       "    }\n",
       "\n",
       "    .dataframe tbody tr th {\n",
       "        vertical-align: top;\n",
       "    }\n",
       "\n",
       "    .dataframe thead th {\n",
       "        text-align: right;\n",
       "    }\n",
       "</style>\n",
       "<table border=\"1\" class=\"dataframe\">\n",
       "  <thead>\n",
       "    <tr style=\"text-align: right;\">\n",
       "      <th></th>\n",
       "      <th>Rating</th>\n",
       "      <th>Review</th>\n",
       "    </tr>\n",
       "  </thead>\n",
       "  <tbody>\n",
       "    <tr>\n",
       "      <th>0</th>\n",
       "      <td>0</td>\n",
       "      <td>Pros and Cons. But I think it's a cool laptop....</td>\n",
       "    </tr>\n",
       "    <tr>\n",
       "      <th>1</th>\n",
       "      <td>4</td>\n",
       "      <td>Just opened, I'm sure the computer is great, b...</td>\n",
       "    </tr>\n",
       "    <tr>\n",
       "      <th>2</th>\n",
       "      <td>4</td>\n",
       "      <td>The Microsoft Office was only free for 30 days...</td>\n",
       "    </tr>\n",
       "    <tr>\n",
       "      <th>3</th>\n",
       "      <td>3</td>\n",
       "      <td>This computer is NOT for gaming or gamers. It ...</td>\n",
       "    </tr>\n",
       "    <tr>\n",
       "      <th>4</th>\n",
       "      <td>0</td>\n",
       "      <td>Perfect size. Not too big or small. Very fast ...</td>\n",
       "    </tr>\n",
       "    <tr>\n",
       "      <th>...</th>\n",
       "      <td>...</td>\n",
       "      <td>...</td>\n",
       "    </tr>\n",
       "    <tr>\n",
       "      <th>1022</th>\n",
       "      <td>3</td>\n",
       "      <td>Pros:-\\n1. The Watch has great battery life ca...</td>\n",
       "    </tr>\n",
       "    <tr>\n",
       "      <th>1023</th>\n",
       "      <td>4</td>\n",
       "      <td>I have been using this watch since 14 days. Ba...</td>\n",
       "    </tr>\n",
       "    <tr>\n",
       "      <th>1024</th>\n",
       "      <td>3</td>\n",
       "      <td>PROS : GOOD BATTERY LIFE 🔋\\nAmazing touch feed...</td>\n",
       "    </tr>\n",
       "    <tr>\n",
       "      <th>1025</th>\n",
       "      <td>3</td>\n",
       "      <td>This was my first smartwatch, and I was very e...</td>\n",
       "    </tr>\n",
       "    <tr>\n",
       "      <th>1026</th>\n",
       "      <td>3</td>\n",
       "      <td>Watch is good after the update please try to g...</td>\n",
       "    </tr>\n",
       "  </tbody>\n",
       "</table>\n",
       "<p>1027 rows × 2 columns</p>\n",
       "</div>"
      ],
      "text/plain": [
       "      Rating                                             Review\n",
       "0          0  Pros and Cons. But I think it's a cool laptop....\n",
       "1          4  Just opened, I'm sure the computer is great, b...\n",
       "2          4  The Microsoft Office was only free for 30 days...\n",
       "3          3  This computer is NOT for gaming or gamers. It ...\n",
       "4          0  Perfect size. Not too big or small. Very fast ...\n",
       "...      ...                                                ...\n",
       "1022       3  Pros:-\\n1. The Watch has great battery life ca...\n",
       "1023       4  I have been using this watch since 14 days. Ba...\n",
       "1024       3  PROS : GOOD BATTERY LIFE 🔋\\nAmazing touch feed...\n",
       "1025       3  This was my first smartwatch, and I was very e...\n",
       "1026       3  Watch is good after the update please try to g...\n",
       "\n",
       "[1027 rows x 2 columns]"
      ]
     },
     "execution_count": 20,
     "metadata": {},
     "output_type": "execute_result"
    }
   ],
   "source": [
    "data"
   ]
  },
  {
   "cell_type": "code",
   "execution_count": 21,
   "metadata": {},
   "outputs": [
    {
     "name": "stdout",
     "output_type": "stream",
     "text": [
      "Number of unique values in Rating : 4    626\n",
      "3    211\n",
      "0     95\n",
      "2     60\n",
      "1     35\n",
      "Name: Rating, dtype: int64\n"
     ]
    }
   ],
   "source": [
    "print('Number of unique values in Rating :',data['Rating'].value_counts())"
   ]
  },
  {
   "cell_type": "code",
   "execution_count": 22,
   "metadata": {},
   "outputs": [
    {
     "data": {
      "text/plain": [
       "0       Pros and Cons. But I think it's a cool laptop....\n",
       "1       Just opened, I'm sure the computer is great, b...\n",
       "2       The Microsoft Office was only free for 30 days...\n",
       "3       This computer is NOT for gaming or gamers. It ...\n",
       "4       Perfect size. Not too big or small. Very fast ...\n",
       "                              ...                        \n",
       "1022    Pros:-\\n1. The Watch has great battery life ca...\n",
       "1023    I have been using this watch since 14 days. Ba...\n",
       "1024    PROS : GOOD BATTERY LIFE 🔋\\nAmazing touch feed...\n",
       "1025    This was my first smartwatch, and I was very e...\n",
       "1026    Watch is good after the update please try to g...\n",
       "Name: Review, Length: 1027, dtype: object"
      ]
     },
     "execution_count": 22,
     "metadata": {},
     "output_type": "execute_result"
    }
   ],
   "source": [
    "# 1. Remove HTML tags\n",
    "#Regex rule : ‘<.*?>’\n",
    "\n",
    "def clean(text):\n",
    "    cleaned = re.compile(r'<.*?>')\n",
    "    return re.sub(cleaned,'',text) # substring replace with ''(space)\n",
    "\n",
    "data.Review = data.Review.apply(clean)\n",
    "data.Review"
   ]
  },
  {
   "cell_type": "code",
   "execution_count": 23,
   "metadata": {},
   "outputs": [
    {
     "data": {
      "text/plain": [
       "0       Pros and Cons  But I think it s a cool laptop ...\n",
       "1       Just opened  I m sure the computer is great  b...\n",
       "2       The Microsoft Office was only free for 30 days...\n",
       "3       This computer is NOT for gaming or gamers  It ...\n",
       "4       Perfect size  Not too big or small  Very fast ...\n",
       "                              ...                        \n",
       "1022    Pros   1  The Watch has great battery life can...\n",
       "1023    I have been using this watch since 14 days  Ba...\n",
       "1024    PROS   GOOD BATTERY LIFE   Amazing touch feedb...\n",
       "1025    This was my first smartwatch  and I was very e...\n",
       "1026    Watch is good after the update please try to g...\n",
       "Name: Review, Length: 1027, dtype: object"
      ]
     },
     "execution_count": 23,
     "metadata": {},
     "output_type": "execute_result"
    }
   ],
   "source": [
    "# 2. Remove special characters\n",
    "def is_special(text):\n",
    "    rem = ''\n",
    "    for i in text:\n",
    "        if i.isalnum():\n",
    "            rem = rem + i\n",
    "        else:\n",
    "            rem = rem + ' '\n",
    "    return rem\n",
    "\n",
    "data.Review = data.Review.apply(is_special)\n",
    "data.Review"
   ]
  },
  {
   "cell_type": "code",
   "execution_count": 24,
   "metadata": {},
   "outputs": [
    {
     "data": {
      "text/plain": [
       "0       pros and cons  but i think it s a cool laptop ...\n",
       "1       just opened  i m sure the computer is great  b...\n",
       "2       the microsoft office was only free for 30 days...\n",
       "3       this computer is not for gaming or gamers  it ...\n",
       "4       perfect size  not too big or small  very fast ...\n",
       "                              ...                        \n",
       "1022    pros   1  the watch has great battery life can...\n",
       "1023    i have been using this watch since 14 days  ba...\n",
       "1024    pros   good battery life   amazing touch feedb...\n",
       "1025    this was my first smartwatch  and i was very e...\n",
       "1026    watch is good after the update please try to g...\n",
       "Name: Review, Length: 1027, dtype: object"
      ]
     },
     "execution_count": 24,
     "metadata": {},
     "output_type": "execute_result"
    }
   ],
   "source": [
    "# 3. Convert everything to lowercase\n",
    "def to_lower(text):\n",
    "    return text.lower()\n",
    "\n",
    "data.Review = data.Review.apply(to_lower)\n",
    "data.Review"
   ]
  },
  {
   "cell_type": "code",
   "execution_count": 25,
   "metadata": {},
   "outputs": [],
   "source": [
    "# Replace email addresses with 'email'\n",
    "data['Review'] = data['Review'].str.replace(r'^.+@[^\\.].*\\.[a-z]{2,}$',\n",
    "                                     'emailaddress')\n",
    "\n",
    "    # Replace URLs with 'webaddress'\n",
    "data['Review'] = data['Review'].str.replace(r'^http\\://[a-zA-Z0-9\\-\\.]+\\.[a-zA-Z]{2,3}(/\\S*)?$',\n",
    "                                      'webaddress')\n",
    "\n",
    "    # Replace money symbols with 'moneysymb' (£ can by typed with ALT key + 156)\n",
    "data['Review'] = data['Review'].str.replace(r'£|\\$', 'dollers')\n",
    "\n",
    "    # Replace 10 digit phone numbers (formats include paranthesis, spaces, no spaces, dashes) with 'phonenumber'\n",
    "data['Review'] = data['Review'].str.replace(r'^\\(?[\\d]{3}\\)?[\\s-]?[\\d]{3}[\\s-]?[\\d]{4}$',\n",
    "                                      'phonenumber')\n",
    "\n",
    "\n",
    "    # Replace numbers with 'numbr'\n",
    "data['Review'] = data['Review'].str.replace(r'\\d+(\\.\\d+)?', 'numbr')\n",
    "\n",
    "    # Remove punctuation\n",
    "data['Review'] = data['Review'].str.replace(r'[^\\w\\d\\s]', ' ')\n",
    "\n",
    "    # Replace whitespace between terms with a single space\n",
    "data['Review'] = data['Review'].str.replace(r'\\s+', ' ')\n",
    "\n",
    "    # Remove leading and trailing whitespace\n",
    "data['Review'] = data['Review'].str.replace(r'^\\s+|\\s+?$', '')"
   ]
  },
  {
   "cell_type": "code",
   "execution_count": 26,
   "metadata": {},
   "outputs": [
    {
     "data": {
      "text/plain": [
       "0       [pros, cons, think, cool, laptop, pros, speake...\n",
       "1       [opened, sure, computer, great, advertised, nu...\n",
       "2       [microsoft, office, free, numbr, days, vs, num...\n",
       "3       [computer, gaming, gamers, regular, laptop, go...\n",
       "4       [perfect, size, big, small, fast, user, friendly]\n",
       "                              ...                        \n",
       "1022    [pros, numbr, watch, great, battery, life, las...\n",
       "1023    [using, watch, since, numbr, days, battery, li...\n",
       "1024    [pros, good, battery, life, amazing, touch, fe...\n",
       "1025    [first, smartwatch, excited, oneplus, user, ma...\n",
       "1026    [watch, good, update, please, try, get, numbr,...\n",
       "Name: Review, Length: 1027, dtype: object"
      ]
     },
     "execution_count": 26,
     "metadata": {},
     "output_type": "execute_result"
    }
   ],
   "source": [
    "# 4. Remove stopwords\n",
    "def rem_stopwords(text):\n",
    "    stop_words = set(stopwords.words('english'))\n",
    "    words = word_tokenize(text)\n",
    "    return [w for w in words if w not in stop_words]\n",
    "\n",
    "data.Review = data.Review.apply(rem_stopwords)\n",
    "data.Review"
   ]
  },
  {
   "cell_type": "code",
   "execution_count": 27,
   "metadata": {},
   "outputs": [],
   "source": [
    "from nltk.stem import SnowballStemmer, WordNetLemmatizer\n",
    "stemmer = SnowballStemmer(\"english\")\n",
    "import gensim\n",
    "def lemmatize_stemming(text):\n",
    "    return stemmer.stem(WordNetLemmatizer().lemmatize(text,pos='v'))"
   ]
  },
  {
   "cell_type": "code",
   "execution_count": 28,
   "metadata": {},
   "outputs": [],
   "source": [
    "#Tokenize and Lemmatize\n",
    "def preprocess(text):\n",
    "    result=[]\n",
    "    for token in text:\n",
    "        if len(token)>=3:\n",
    "            result.append(lemmatize_stemming(token))\n",
    "            \n",
    "    return result"
   ]
  },
  {
   "cell_type": "code",
   "execution_count": 29,
   "metadata": {},
   "outputs": [
    {
     "name": "stdout",
     "output_type": "stream",
     "text": [
      "1027\n"
     ]
    },
    {
     "data": {
      "text/plain": [
       "[['pros',\n",
       "  'con',\n",
       "  'think',\n",
       "  'cool',\n",
       "  'laptop',\n",
       "  'pros',\n",
       "  'speaker',\n",
       "  'placement',\n",
       "  'superb',\n",
       "  'right',\n",
       "  'keyboard',\n",
       "  'screen',\n",
       "  'decent',\n",
       "  'numbrp',\n",
       "  'mind',\n",
       "  'keyboard',\n",
       "  'decent',\n",
       "  'one',\n",
       "  'usb',\n",
       "  'port',\n",
       "  'sever',\n",
       "  'legaci',\n",
       "  'port',\n",
       "  'hdmi',\n",
       "  'numbrx',\n",
       "  'usb',\n",
       "  'card',\n",
       "  'slot',\n",
       "  'headphon',\n",
       "  'port',\n",
       "  'awesom',\n",
       "  'versatil',\n",
       "  'con',\n",
       "  'trackpad',\n",
       "  'stop',\n",
       "  'work',\n",
       "  'almost',\n",
       "  'minut',\n",
       "  'least',\n",
       "  'everi',\n",
       "  'hour',\n",
       "  'two',\n",
       "  'usual',\n",
       "  'put',\n",
       "  'laptop',\n",
       "  'sleep',\n",
       "  'wake',\n",
       "  'resolv',\n",
       "  'howev',\n",
       "  'worth',\n",
       "  'troubl',\n",
       "  'sometim',\n",
       "  'bright',\n",
       "  'button',\n",
       "  'work',\n",
       "  'neither',\n",
       "  'bright',\n",
       "  'slider',\n",
       "  'window',\n",
       "  'either',\n",
       "  'screen',\n",
       "  'stay',\n",
       "  'consist',\n",
       "  'bright',\n",
       "  'like',\n",
       "  'laptop',\n",
       "  'must',\n",
       "  'return',\n",
       "  'trackpad',\n",
       "  'import',\n",
       "  'especi',\n",
       "  'work',\n",
       "  'everi',\n",
       "  'unit',\n",
       "  'might',\n",
       "  'provid',\n",
       "  'differ',\n",
       "  'experi',\n",
       "  'mayb',\n",
       "  'next',\n",
       "  'unit',\n",
       "  'purchas',\n",
       "  'better',\n",
       "  'remark',\n",
       "  'flaw',\n",
       "  'take',\n",
       "  'chanc',\n",
       "  'get',\n",
       "  'one',\n",
       "  'lenovo',\n",
       "  'around',\n",
       "  'price',\n",
       "  'read'],\n",
       " ['open',\n",
       "  'sure',\n",
       "  'comput',\n",
       "  'great',\n",
       "  'advertis',\n",
       "  'numbr',\n",
       "  'year',\n",
       "  'free',\n",
       "  'microsoft',\n",
       "  'numbr',\n",
       "  'see',\n",
       "  'one',\n",
       "  'month',\n",
       "  'free',\n",
       "  'trial',\n",
       "  'hop',\n",
       "  'resolv',\n",
       "  'seller',\n",
       "  'amazon',\n",
       "  'warehous',\n",
       "  'hope',\n",
       "  'chang',\n",
       "  'review',\n",
       "  'numbr',\n",
       "  'star'],\n",
       " ['microsoft',\n",
       "  'offic',\n",
       "  'free',\n",
       "  'numbr',\n",
       "  'day',\n",
       "  'numbryr',\n",
       "  'includ',\n",
       "  'purchas',\n",
       "  'also',\n",
       "  'microsoft',\n",
       "  'offic',\n",
       "  'longer',\n",
       "  'includ',\n",
       "  'microsoft',\n",
       "  'money',\n",
       "  'use',\n",
       "  'budget',\n",
       "  'expenditur',\n",
       "  'categori',\n",
       "  'tax',\n",
       "  'purpos',\n",
       "  'laptop',\n",
       "  'disc',\n",
       "  'drive',\n",
       "  'buy',\n",
       "  'extern',\n",
       "  'drive',\n",
       "  'microsoft',\n",
       "  'softwar',\n",
       "  'prevent',\n",
       "  'thing',\n",
       "  'appreci',\n",
       "  'addit',\n",
       "  'secur',\n",
       "  'take',\n",
       "  'addit',\n",
       "  'secur',\n",
       "  'get',\n",
       "  'back',\n",
       "  'decid',\n",
       "  'adequ',\n",
       "  'secur',\n",
       "  'norton',\n",
       "  'lifelock',\n",
       "  'numbr',\n",
       "  'take',\n",
       "  'secur',\n",
       "  'microsoft',\n",
       "  'techi',\n",
       "  'laptop',\n",
       "  'lightweight',\n",
       "  'everyth',\n",
       "  'els',\n",
       "  'need']]"
      ]
     },
     "execution_count": 29,
     "metadata": {},
     "output_type": "execute_result"
    }
   ],
   "source": [
    "# Processing review with above Function\n",
    "processed_review = []\n",
    "\n",
    "for doc in data.Review:\n",
    "    processed_review.append(preprocess(doc))\n",
    "    \n",
    "print(len(processed_review))\n",
    "processed_review[:3]"
   ]
  },
  {
   "cell_type": "code",
   "execution_count": 30,
   "metadata": {},
   "outputs": [
    {
     "data": {
      "text/plain": [
       "0       [pros, cons, think, cool, laptop, pros, speake...\n",
       "1       [opened, sure, computer, great, advertised, nu...\n",
       "2       [microsoft, office, free, numbr, days, vs, num...\n",
       "3       [computer, gaming, gamers, regular, laptop, go...\n",
       "4       [perfect, size, big, small, fast, user, friendly]\n",
       "                              ...                        \n",
       "1022    [pros, numbr, watch, great, battery, life, las...\n",
       "1023    [using, watch, since, numbr, days, battery, li...\n",
       "1024    [pros, good, battery, life, amazing, touch, fe...\n",
       "1025    [first, smartwatch, excited, oneplus, user, ma...\n",
       "1026    [watch, good, update, please, try, get, numbr,...\n",
       "Name: Review, Length: 1027, dtype: object"
      ]
     },
     "execution_count": 30,
     "metadata": {},
     "output_type": "execute_result"
    }
   ],
   "source": [
    "data.Review"
   ]
  },
  {
   "cell_type": "code",
   "execution_count": 31,
   "metadata": {},
   "outputs": [],
   "source": [
    "data['Processed_review']=processed_review"
   ]
  },
  {
   "cell_type": "code",
   "execution_count": 32,
   "metadata": {},
   "outputs": [
    {
     "data": {
      "text/html": [
       "<div>\n",
       "<style scoped>\n",
       "    .dataframe tbody tr th:only-of-type {\n",
       "        vertical-align: middle;\n",
       "    }\n",
       "\n",
       "    .dataframe tbody tr th {\n",
       "        vertical-align: top;\n",
       "    }\n",
       "\n",
       "    .dataframe thead th {\n",
       "        text-align: right;\n",
       "    }\n",
       "</style>\n",
       "<table border=\"1\" class=\"dataframe\">\n",
       "  <thead>\n",
       "    <tr style=\"text-align: right;\">\n",
       "      <th></th>\n",
       "      <th>Rating</th>\n",
       "      <th>Review</th>\n",
       "      <th>Processed_review</th>\n",
       "    </tr>\n",
       "  </thead>\n",
       "  <tbody>\n",
       "    <tr>\n",
       "      <th>0</th>\n",
       "      <td>0</td>\n",
       "      <td>[pros, cons, think, cool, laptop, pros, speake...</td>\n",
       "      <td>[pros, con, think, cool, laptop, pros, speaker...</td>\n",
       "    </tr>\n",
       "    <tr>\n",
       "      <th>1</th>\n",
       "      <td>4</td>\n",
       "      <td>[opened, sure, computer, great, advertised, nu...</td>\n",
       "      <td>[open, sure, comput, great, advertis, numbr, y...</td>\n",
       "    </tr>\n",
       "    <tr>\n",
       "      <th>2</th>\n",
       "      <td>4</td>\n",
       "      <td>[microsoft, office, free, numbr, days, vs, num...</td>\n",
       "      <td>[microsoft, offic, free, numbr, day, numbryr, ...</td>\n",
       "    </tr>\n",
       "    <tr>\n",
       "      <th>3</th>\n",
       "      <td>3</td>\n",
       "      <td>[computer, gaming, gamers, regular, laptop, go...</td>\n",
       "      <td>[comput, game, gamer, regular, laptop, good, s...</td>\n",
       "    </tr>\n",
       "    <tr>\n",
       "      <th>4</th>\n",
       "      <td>0</td>\n",
       "      <td>[perfect, size, big, small, fast, user, friendly]</td>\n",
       "      <td>[perfect, size, big, small, fast, user, friend]</td>\n",
       "    </tr>\n",
       "    <tr>\n",
       "      <th>...</th>\n",
       "      <td>...</td>\n",
       "      <td>...</td>\n",
       "      <td>...</td>\n",
       "    </tr>\n",
       "    <tr>\n",
       "      <th>1022</th>\n",
       "      <td>3</td>\n",
       "      <td>[pros, numbr, watch, great, battery, life, las...</td>\n",
       "      <td>[pros, numbr, watch, great, batteri, life, las...</td>\n",
       "    </tr>\n",
       "    <tr>\n",
       "      <th>1023</th>\n",
       "      <td>4</td>\n",
       "      <td>[using, watch, since, numbr, days, battery, li...</td>\n",
       "      <td>[use, watch, sinc, numbr, day, batteri, life, ...</td>\n",
       "    </tr>\n",
       "    <tr>\n",
       "      <th>1024</th>\n",
       "      <td>3</td>\n",
       "      <td>[pros, good, battery, life, amazing, touch, fe...</td>\n",
       "      <td>[pros, good, batteri, life, amaz, touch, feedb...</td>\n",
       "    </tr>\n",
       "    <tr>\n",
       "      <th>1025</th>\n",
       "      <td>3</td>\n",
       "      <td>[first, smartwatch, excited, oneplus, user, ma...</td>\n",
       "      <td>[first, smartwatch, excit, oneplus, user, mani...</td>\n",
       "    </tr>\n",
       "    <tr>\n",
       "      <th>1026</th>\n",
       "      <td>3</td>\n",
       "      <td>[watch, good, update, please, try, get, numbr,...</td>\n",
       "      <td>[watch, good, updat, pleas, tri, get, numbr, w...</td>\n",
       "    </tr>\n",
       "  </tbody>\n",
       "</table>\n",
       "<p>1027 rows × 3 columns</p>\n",
       "</div>"
      ],
      "text/plain": [
       "      Rating                                             Review  \\\n",
       "0          0  [pros, cons, think, cool, laptop, pros, speake...   \n",
       "1          4  [opened, sure, computer, great, advertised, nu...   \n",
       "2          4  [microsoft, office, free, numbr, days, vs, num...   \n",
       "3          3  [computer, gaming, gamers, regular, laptop, go...   \n",
       "4          0  [perfect, size, big, small, fast, user, friendly]   \n",
       "...      ...                                                ...   \n",
       "1022       3  [pros, numbr, watch, great, battery, life, las...   \n",
       "1023       4  [using, watch, since, numbr, days, battery, li...   \n",
       "1024       3  [pros, good, battery, life, amazing, touch, fe...   \n",
       "1025       3  [first, smartwatch, excited, oneplus, user, ma...   \n",
       "1026       3  [watch, good, update, please, try, get, numbr,...   \n",
       "\n",
       "                                       Processed_review  \n",
       "0     [pros, con, think, cool, laptop, pros, speaker...  \n",
       "1     [open, sure, comput, great, advertis, numbr, y...  \n",
       "2     [microsoft, offic, free, numbr, day, numbryr, ...  \n",
       "3     [comput, game, gamer, regular, laptop, good, s...  \n",
       "4       [perfect, size, big, small, fast, user, friend]  \n",
       "...                                                 ...  \n",
       "1022  [pros, numbr, watch, great, batteri, life, las...  \n",
       "1023  [use, watch, sinc, numbr, day, batteri, life, ...  \n",
       "1024  [pros, good, batteri, life, amaz, touch, feedb...  \n",
       "1025  [first, smartwatch, excit, oneplus, user, mani...  \n",
       "1026  [watch, good, updat, pleas, tri, get, numbr, w...  \n",
       "\n",
       "[1027 rows x 3 columns]"
      ]
     },
     "execution_count": 32,
     "metadata": {},
     "output_type": "execute_result"
    }
   ],
   "source": [
    "data"
   ]
  },
  {
   "cell_type": "code",
   "execution_count": 33,
   "metadata": {},
   "outputs": [],
   "source": [
    "data['Review'] = data['Processed_review'].apply(lambda x:' '.join(y for y in x))"
   ]
  },
  {
   "cell_type": "code",
   "execution_count": 34,
   "metadata": {},
   "outputs": [
    {
     "data": {
      "text/html": [
       "<div>\n",
       "<style scoped>\n",
       "    .dataframe tbody tr th:only-of-type {\n",
       "        vertical-align: middle;\n",
       "    }\n",
       "\n",
       "    .dataframe tbody tr th {\n",
       "        vertical-align: top;\n",
       "    }\n",
       "\n",
       "    .dataframe thead th {\n",
       "        text-align: right;\n",
       "    }\n",
       "</style>\n",
       "<table border=\"1\" class=\"dataframe\">\n",
       "  <thead>\n",
       "    <tr style=\"text-align: right;\">\n",
       "      <th></th>\n",
       "      <th>Rating</th>\n",
       "      <th>Review</th>\n",
       "      <th>Processed_review</th>\n",
       "    </tr>\n",
       "  </thead>\n",
       "  <tbody>\n",
       "    <tr>\n",
       "      <th>0</th>\n",
       "      <td>0</td>\n",
       "      <td>pros con think cool laptop pros speaker placem...</td>\n",
       "      <td>[pros, con, think, cool, laptop, pros, speaker...</td>\n",
       "    </tr>\n",
       "    <tr>\n",
       "      <th>1</th>\n",
       "      <td>4</td>\n",
       "      <td>open sure comput great advertis numbr year fre...</td>\n",
       "      <td>[open, sure, comput, great, advertis, numbr, y...</td>\n",
       "    </tr>\n",
       "    <tr>\n",
       "      <th>2</th>\n",
       "      <td>4</td>\n",
       "      <td>microsoft offic free numbr day numbryr includ ...</td>\n",
       "      <td>[microsoft, offic, free, numbr, day, numbryr, ...</td>\n",
       "    </tr>\n",
       "    <tr>\n",
       "      <th>3</th>\n",
       "      <td>3</td>\n",
       "      <td>comput game gamer regular laptop good screen q...</td>\n",
       "      <td>[comput, game, gamer, regular, laptop, good, s...</td>\n",
       "    </tr>\n",
       "    <tr>\n",
       "      <th>4</th>\n",
       "      <td>0</td>\n",
       "      <td>perfect size big small fast user friend</td>\n",
       "      <td>[perfect, size, big, small, fast, user, friend]</td>\n",
       "    </tr>\n",
       "    <tr>\n",
       "      <th>...</th>\n",
       "      <td>...</td>\n",
       "      <td>...</td>\n",
       "      <td>...</td>\n",
       "    </tr>\n",
       "    <tr>\n",
       "      <th>1022</th>\n",
       "      <td>3</td>\n",
       "      <td>pros numbr watch great batteri life last upto ...</td>\n",
       "      <td>[pros, numbr, watch, great, batteri, life, las...</td>\n",
       "    </tr>\n",
       "    <tr>\n",
       "      <th>1023</th>\n",
       "      <td>4</td>\n",
       "      <td>use watch sinc numbr day batteri life good wat...</td>\n",
       "      <td>[use, watch, sinc, numbr, day, batteri, life, ...</td>\n",
       "    </tr>\n",
       "    <tr>\n",
       "      <th>1024</th>\n",
       "      <td>3</td>\n",
       "      <td>pros good batteri life amaz touch feedback bea...</td>\n",
       "      <td>[pros, good, batteri, life, amaz, touch, feedb...</td>\n",
       "    </tr>\n",
       "    <tr>\n",
       "      <th>1025</th>\n",
       "      <td>3</td>\n",
       "      <td>first smartwatch excit oneplus user mani aspir...</td>\n",
       "      <td>[first, smartwatch, excit, oneplus, user, mani...</td>\n",
       "    </tr>\n",
       "    <tr>\n",
       "      <th>1026</th>\n",
       "      <td>3</td>\n",
       "      <td>watch good updat pleas tri get numbr worth pri...</td>\n",
       "      <td>[watch, good, updat, pleas, tri, get, numbr, w...</td>\n",
       "    </tr>\n",
       "  </tbody>\n",
       "</table>\n",
       "<p>1027 rows × 3 columns</p>\n",
       "</div>"
      ],
      "text/plain": [
       "      Rating                                             Review  \\\n",
       "0          0  pros con think cool laptop pros speaker placem...   \n",
       "1          4  open sure comput great advertis numbr year fre...   \n",
       "2          4  microsoft offic free numbr day numbryr includ ...   \n",
       "3          3  comput game gamer regular laptop good screen q...   \n",
       "4          0            perfect size big small fast user friend   \n",
       "...      ...                                                ...   \n",
       "1022       3  pros numbr watch great batteri life last upto ...   \n",
       "1023       4  use watch sinc numbr day batteri life good wat...   \n",
       "1024       3  pros good batteri life amaz touch feedback bea...   \n",
       "1025       3  first smartwatch excit oneplus user mani aspir...   \n",
       "1026       3  watch good updat pleas tri get numbr worth pri...   \n",
       "\n",
       "                                       Processed_review  \n",
       "0     [pros, con, think, cool, laptop, pros, speaker...  \n",
       "1     [open, sure, comput, great, advertis, numbr, y...  \n",
       "2     [microsoft, offic, free, numbr, day, numbryr, ...  \n",
       "3     [comput, game, gamer, regular, laptop, good, s...  \n",
       "4       [perfect, size, big, small, fast, user, friend]  \n",
       "...                                                 ...  \n",
       "1022  [pros, numbr, watch, great, batteri, life, las...  \n",
       "1023  [use, watch, sinc, numbr, day, batteri, life, ...  \n",
       "1024  [pros, good, batteri, life, amaz, touch, feedb...  \n",
       "1025  [first, smartwatch, excit, oneplus, user, mani...  \n",
       "1026  [watch, good, updat, pleas, tri, get, numbr, w...  \n",
       "\n",
       "[1027 rows x 3 columns]"
      ]
     },
     "execution_count": 34,
     "metadata": {},
     "output_type": "execute_result"
    }
   ],
   "source": [
    "data"
   ]
  },
  {
   "cell_type": "code",
   "execution_count": 37,
   "metadata": {},
   "outputs": [
    {
     "name": "stdout",
     "output_type": "stream",
     "text": [
      "X.shape =  (1027, 4274)\n",
      "y.shape =  (1027,)\n"
     ]
    }
   ],
   "source": [
    "from sklearn.feature_extraction.text import TfidfVectorizer\n",
    "\n",
    "tf_vec = TfidfVectorizer()\n",
    "features = tf_vec.fit_transform(data['Review'])\n",
    "\n",
    "X = features\n",
    "y = data['Rating']\n",
    "\n",
    "print(\"X.shape = \",X.shape)\n",
    "print(\"y.shape = \",y.shape)"
   ]
  },
  {
   "cell_type": "code",
   "execution_count": 38,
   "metadata": {},
   "outputs": [],
   "source": [
    "# Importing libraries for model training\n",
    "\n",
    "from sklearn.linear_model import LogisticRegression\n",
    "from sklearn.naive_bayes import MultinomialNB\n",
    "from sklearn.tree import DecisionTreeClassifier\n",
    "from sklearn.linear_model import LogisticRegression\n",
    "from sklearn.neighbors import KNeighborsClassifier\n",
    "\n",
    "from sklearn.ensemble import RandomForestClassifier, AdaBoostClassifier\n",
    "\n",
    "\n",
    "\n",
    "from sklearn.model_selection import cross_val_score, cross_val_predict, train_test_split\n",
    "from sklearn.model_selection import GridSearchCV\n",
    "\n",
    "\n",
    "# Importing evaluation metrics for model performance.... \n",
    "from sklearn.metrics import accuracy_score, classification_report, confusion_matrix\n",
    "from sklearn.metrics import roc_auc_score, roc_curve, auc\n",
    "from sklearn.metrics import precision_score, recall_score, f1_score"
   ]
  },
  {
   "cell_type": "code",
   "execution_count": 39,
   "metadata": {},
   "outputs": [],
   "source": [
    "#splitting the data into training and testing\n",
    "x_train,x_test,y_train,y_test=train_test_split(X,y,random_state=42,test_size=0.30,stratify=y)"
   ]
  },
  {
   "cell_type": "code",
   "execution_count": 40,
   "metadata": {},
   "outputs": [],
   "source": [
    "# Creating instances for different Classifiers\n",
    "\n",
    "RFC=RandomForestClassifier() \n",
    "ADA=AdaBoostClassifier()\n",
    "MNB=MultinomialNB()\n",
    "DT=DecisionTreeClassifier()\n",
    "KNN=KNeighborsClassifier()"
   ]
  },
  {
   "cell_type": "code",
   "execution_count": 41,
   "metadata": {},
   "outputs": [],
   "source": [
    "# List of Models\n",
    "models=[]\n",
    "models.append(('RandomForestClassifier',RFC))\n",
    "models.append(('AdaBoostClassifier',ADA))\n",
    "models.append(('MultinomialNB()',MNB))\n",
    "models.append(('DecisionTreeClassifier',DT))\n",
    "models.append(('KNeighborsClassifier',KNN))"
   ]
  },
  {
   "cell_type": "code",
   "execution_count": 42,
   "metadata": {},
   "outputs": [
    {
     "name": "stdout",
     "output_type": "stream",
     "text": [
      "************** RandomForestClassifier ***************\n",
      "\n",
      "\n",
      "RandomForestClassifier()\n",
      "\n",
      "\n",
      "Accuracy_score= 0.656957928802589\n",
      "\n",
      "\n",
      "Cross_Val_Score= 0.6213402794222116\n",
      "\n",
      "\n",
      "classification report\n",
      "               precision    recall  f1-score   support\n",
      "\n",
      "           0       1.00      0.14      0.24        29\n",
      "           1       0.00      0.00      0.00        11\n",
      "           2       0.00      0.00      0.00        18\n",
      "           3       0.76      0.25      0.38        63\n",
      "           4       0.65      0.97      0.78       188\n",
      "\n",
      "    accuracy                           0.66       309\n",
      "   macro avg       0.48      0.27      0.28       309\n",
      "weighted avg       0.64      0.66      0.57       309\n",
      "\n",
      "\n",
      "\n",
      "[[  4   0   0   0  25]\n",
      " [  0   0   0   0  11]\n",
      " [  0   0   0   1  17]\n",
      " [  0   0   0  16  47]\n",
      " [  0   1   0   4 183]]\n",
      "\n",
      "\n",
      "AxesSubplot(0.125,0.808774;0.62x0.0712264)\n",
      "\n",
      "\n",
      "\n",
      "************** AdaBoostClassifier ***************\n",
      "\n",
      "\n",
      "AdaBoostClassifier()\n",
      "\n",
      "\n",
      "Accuracy_score= 0.6116504854368932\n",
      "\n",
      "\n",
      "Cross_Val_Score= 0.5784750177598863\n",
      "\n",
      "\n",
      "classification report\n",
      "               precision    recall  f1-score   support\n",
      "\n",
      "           0       0.00      0.00      0.00        29\n",
      "           1       0.00      0.00      0.00        11\n",
      "           2       0.00      0.00      0.00        18\n",
      "           3       0.53      0.13      0.21        63\n",
      "           4       0.62      0.96      0.76       188\n",
      "\n",
      "    accuracy                           0.61       309\n",
      "   macro avg       0.23      0.22      0.19       309\n",
      "weighted avg       0.49      0.61      0.50       309\n",
      "\n",
      "\n",
      "\n",
      "[[  0   0   0   1  28]\n",
      " [  0   0   0   1  10]\n",
      " [  0   0   0   1  17]\n",
      " [  0   0   0   8  55]\n",
      " [  0   3   0   4 181]]\n",
      "\n",
      "\n",
      "AxesSubplot(0.125,0.808774;0.62x0.0712264)\n",
      "\n",
      "\n",
      "\n",
      "************** MultinomialNB() ***************\n",
      "\n",
      "\n",
      "MultinomialNB()\n",
      "\n",
      "\n",
      "Accuracy_score= 0.6084142394822006\n",
      "\n",
      "\n",
      "Cross_Val_Score= 0.6105185886810325\n",
      "\n",
      "\n",
      "classification report\n",
      "               precision    recall  f1-score   support\n",
      "\n",
      "           0       0.00      0.00      0.00        29\n",
      "           1       0.00      0.00      0.00        11\n",
      "           2       0.00      0.00      0.00        18\n",
      "           3       0.00      0.00      0.00        63\n",
      "           4       0.61      1.00      0.76       188\n",
      "\n",
      "    accuracy                           0.61       309\n",
      "   macro avg       0.12      0.20      0.15       309\n",
      "weighted avg       0.37      0.61      0.46       309\n",
      "\n",
      "\n",
      "\n",
      "[[  0   0   0   0  29]\n",
      " [  0   0   0   0  11]\n",
      " [  0   0   0   0  18]\n",
      " [  0   0   0   0  63]\n",
      " [  0   0   0   0 188]]\n",
      "\n",
      "\n",
      "AxesSubplot(0.125,0.808774;0.62x0.0712264)\n",
      "\n",
      "\n",
      "\n",
      "************** DecisionTreeClassifier ***************\n",
      "\n",
      "\n",
      "DecisionTreeClassifier()\n",
      "\n",
      "\n",
      "Accuracy_score= 0.5501618122977346\n",
      "\n",
      "\n",
      "Cross_Val_Score= 0.4714421027705423\n",
      "\n",
      "\n",
      "classification report\n",
      "               precision    recall  f1-score   support\n",
      "\n",
      "           0       0.38      0.21      0.27        29\n",
      "           1       0.00      0.00      0.00        11\n",
      "           2       0.07      0.06      0.06        18\n",
      "           3       0.36      0.43      0.39        63\n",
      "           4       0.69      0.72      0.70       188\n",
      "\n",
      "    accuracy                           0.55       309\n",
      "   macro avg       0.30      0.28      0.28       309\n",
      "weighted avg       0.53      0.55      0.54       309\n",
      "\n",
      "\n",
      "\n",
      "[[  6   1   2   7  13]\n",
      " [  0   0   2   2   7]\n",
      " [  1   0   1   7   9]\n",
      " [  1   1   1  27  33]\n",
      " [  8   3   9  32 136]]\n",
      "\n",
      "\n",
      "AxesSubplot(0.125,0.808774;0.62x0.0712264)\n",
      "\n",
      "\n",
      "\n",
      "************** KNeighborsClassifier ***************\n",
      "\n",
      "\n",
      "KNeighborsClassifier()\n",
      "\n",
      "\n",
      "Accuracy_score= 0.5631067961165048\n",
      "\n",
      "\n",
      "Cross_Val_Score= 0.49281553398058253\n",
      "\n",
      "\n",
      "classification report\n",
      "               precision    recall  f1-score   support\n",
      "\n",
      "           0       0.22      0.17      0.19        29\n",
      "           1       0.00      0.00      0.00        11\n",
      "           2       0.00      0.00      0.00        18\n",
      "           3       0.35      0.27      0.30        63\n",
      "           4       0.66      0.81      0.72       188\n",
      "\n",
      "    accuracy                           0.56       309\n",
      "   macro avg       0.24      0.25      0.24       309\n",
      "weighted avg       0.49      0.56      0.52       309\n",
      "\n",
      "\n",
      "\n",
      "[[  5   2   1   1  20]\n",
      " [  2   0   0   3   6]\n",
      " [  3   0   0   5  10]\n",
      " [  1   1   0  17  44]\n",
      " [ 12   0   1  23 152]]\n",
      "\n",
      "\n",
      "AxesSubplot(0.125,0.808774;0.62x0.0712264)\n",
      "\n",
      "\n",
      "\n"
     ]
    },
    {
     "data": {
      "image/png": "[encoded data removed]",
      "text/plain": [
       "<Figure size 720x2880 with 2 Axes>"
      ]
     },
     "metadata": {
      "needs_background": "light"
     },
     "output_type": "display_data"
    },
    {
     "data": {
      "image/png": "[encoded data removed]",
      "text/plain": [
       "<Figure size 720x2880 with 2 Axes>"
      ]
     },
     "metadata": {
      "needs_background": "light"
     },
     "output_type": "display_data"
    },
    {
     "data": {
      "image/png": "[encoded data removed]",
      "text/plain": [
       "<Figure size 720x2880 with 2 Axes>"
      ]
     },
     "metadata": {
      "needs_background": "light"
     },
     "output_type": "display_data"
    },
    {
     "data": {
      "image/png": "[encoded data removed]",
      "text/plain": [
       "<Figure size 720x2880 with 2 Axes>"
      ]
     },
     "metadata": {
      "needs_background": "light"
     },
     "output_type": "display_data"
    },
    {
     "data": {
      "image/png": "[encoded data removed]",
      "text/plain": [
       "<Figure size 720x2880 with 2 Axes>"
      ]
     },
     "metadata": {
      "needs_background": "light"
     },
     "output_type": "display_data"
    }
   ],
   "source": [
    "Model=[]\n",
    "score=[]\n",
    "cvs=[]\n",
    "\n",
    "for name,model in models:\n",
    "    print('**************',name,'***************')\n",
    "    print('\\n')\n",
    "    Model.append(name)\n",
    "    model.fit(x_train,y_train)\n",
    "    print(model)\n",
    "    pre=model.predict(x_test)\n",
    "    print('\\n')\n",
    "    AS=accuracy_score(y_test,pre)\n",
    "    print('Accuracy_score=',AS)\n",
    "    score.append(AS*100)\n",
    "    print('\\n')\n",
    "    sc=cross_val_score(model,X,y,cv=5,scoring='accuracy').mean()\n",
    "    print('Cross_Val_Score=',sc)\n",
    "    cvs.append(sc*100)\n",
    "    print('\\n')\n",
    "    print('classification report\\n',classification_report(y_test,pre))\n",
    "    print('\\n')\n",
    "    cm=confusion_matrix(y_test,pre)\n",
    "    print(cm)\n",
    "    print('\\n')\n",
    "    plt.figure(figsize=(10,40))\n",
    "    plt.subplot(911)\n",
    "    plt.title(name)\n",
    "    print(sns.heatmap(cm,annot=True))\n",
    "    #plt.subplot(912)\n",
    "    #plt.title(name)\n",
    "    print('\\n\\n')"
   ]
  },
  {
   "cell_type": "code",
   "execution_count": 43,
   "metadata": {},
   "outputs": [
    {
     "data": {
      "text/html": [
       "<div>\n",
       "<style scoped>\n",
       "    .dataframe tbody tr th:only-of-type {\n",
       "        vertical-align: middle;\n",
       "    }\n",
       "\n",
       "    .dataframe tbody tr th {\n",
       "        vertical-align: top;\n",
       "    }\n",
       "\n",
       "    .dataframe thead th {\n",
       "        text-align: right;\n",
       "    }\n",
       "</style>\n",
       "<table border=\"1\" class=\"dataframe\">\n",
       "  <thead>\n",
       "    <tr style=\"text-align: right;\">\n",
       "      <th></th>\n",
       "      <th>Model</th>\n",
       "      <th>Score</th>\n",
       "      <th>Cross_Val_Score</th>\n",
       "    </tr>\n",
       "  </thead>\n",
       "  <tbody>\n",
       "    <tr>\n",
       "      <th>0</th>\n",
       "      <td>RandomForestClassifier</td>\n",
       "      <td>65.695793</td>\n",
       "      <td>62.134028</td>\n",
       "    </tr>\n",
       "    <tr>\n",
       "      <th>1</th>\n",
       "      <td>AdaBoostClassifier</td>\n",
       "      <td>61.165049</td>\n",
       "      <td>57.847502</td>\n",
       "    </tr>\n",
       "    <tr>\n",
       "      <th>2</th>\n",
       "      <td>MultinomialNB()</td>\n",
       "      <td>60.841424</td>\n",
       "      <td>61.051859</td>\n",
       "    </tr>\n",
       "    <tr>\n",
       "      <th>3</th>\n",
       "      <td>DecisionTreeClassifier</td>\n",
       "      <td>55.016181</td>\n",
       "      <td>47.144210</td>\n",
       "    </tr>\n",
       "    <tr>\n",
       "      <th>4</th>\n",
       "      <td>KNeighborsClassifier</td>\n",
       "      <td>56.310680</td>\n",
       "      <td>49.281553</td>\n",
       "    </tr>\n",
       "  </tbody>\n",
       "</table>\n",
       "</div>"
      ],
      "text/plain": [
       "                    Model      Score  Cross_Val_Score\n",
       "0  RandomForestClassifier  65.695793        62.134028\n",
       "1      AdaBoostClassifier  61.165049        57.847502\n",
       "2         MultinomialNB()  60.841424        61.051859\n",
       "3  DecisionTreeClassifier  55.016181        47.144210\n",
       "4    KNeighborsClassifier  56.310680        49.281553"
      ]
     },
     "execution_count": 43,
     "metadata": {},
     "output_type": "execute_result"
    }
   ],
   "source": [
    "result=pd.DataFrame({'Model': Model,'Score': score,'Cross_Val_Score':cvs})\n",
    "result"
   ]
  },
  {
   "cell_type": "code",
   "execution_count": null,
   "metadata": {},
   "outputs": [],
   "source": []
  },
  {
   "cell_type": "code",
   "execution_count": null,
   "metadata": {},
   "outputs": [],
   "source": []
  },
  {
   "cell_type": "code",
   "execution_count": null,
   "metadata": {},
   "outputs": [],
   "source": []
  },
  {
   "cell_type": "code",
   "execution_count": null,
   "metadata": {},
   "outputs": [],
   "source": []
  },
  {
   "cell_type": "code",
   "execution_count": null,
   "metadata": {},
   "outputs": [],
   "source": []
  },
  {
   "cell_type": "code",
   "execution_count": null,
   "metadata": {},
   "outputs": [],
   "source": []
  },
  {
   "cell_type": "code",
   "execution_count": null,
   "metadata": {},
   "outputs": [],
   "source": []
  }
 ],
 "metadata": {
  "kernelspec": {
   "display_name": "Python 3",
   "language": "python",
   "name": "python3"
  },
  "language_info": {
   "codemirror_mode": {
    "name": "ipython",
    "version": 3
   },
   "file_extension": ".py",
   "mimetype": "text/x-python",
   "name": "python",
   "nbconvert_exporter": "python",
   "pygments_lexer": "ipython3",
   "version": "3.8.3"
  }
 },
 "nbformat": 4,
 "nbformat_minor": 4
}
