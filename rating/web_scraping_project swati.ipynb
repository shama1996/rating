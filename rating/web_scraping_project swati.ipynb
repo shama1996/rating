{
 "cells": [
  {
   "cell_type": "code",
   "execution_count": 1,
   "metadata": {},
   "outputs": [],
   "source": [
    "import os\n",
    "import time\n",
    "from datetime import date\n",
    "import csv\n",
    "from bs4 import BeautifulSoup\n",
    "from selenium import webdriver\n",
    "from webdriver_manager.chrome import ChromeDriverManager\n",
    "from selenium.webdriver.chrome.options import Options\n"
   ]
  },
  {
   "cell_type": "code",
   "execution_count": 2,
   "metadata": {},
   "outputs": [],
   "source": [
    "class AmazonProductScraper:\n",
    "    def __init__(self):\n",
    "        self.driver = None\n",
    "\n",
    "    def open_browser(self):\n",
    "        \n",
    "        opt = Options()\n",
    "\n",
    "        opt.add_argument(\"--disable-infobars\")\n",
    "        opt.add_argument(\"--disable-extensions\")\n",
    "        opt.add_argument('--log-level=OFF')\n",
    "        opt.add_experimental_option('excludeSwitches', ['enable-logging'])\n",
    "\n",
    "        url = \"https://www.amazon.in/\"\n",
    "        self.driver = webdriver.Chrome(ChromeDriverManager().install(), chrome_options=opt)\n",
    "        \n",
    "        self.driver.get(url)\n",
    "        print(\"\\n>> The browser is open\")\n",
    "\n",
    "       \n",
    "        time.sleep(3)\n",
    "\n",
    "    def get_product_url(self):\n",
    "\n",
    "        search_product_name = input(\">> Enter the product to be searched: \").replace(\" \", \"+\")\n",
    "\n",
    "       \n",
    "        product_url = \"https://www.amazon.in/s?k={}&ref=nb_sb_noss\"\n",
    "\n",
    "        product_url = product_url.format(search_product_name)\n",
    "\n",
    "        print(\">> Product URL: \", product_url)\n",
    "\n",
    "        \n",
    "        self.driver.get(product_url)\n",
    "        \n",
    "        return [product_url, search_product_name, search_product_name]\n",
    "\n",
    "    def extract_webpage_information(self):\n",
    "       \n",
    "        soup = BeautifulSoup(self.driver.page_source, 'html.parser')\n",
    "        \n",
    "        search_results = soup.find_all('div', {'data-component-type': 's-search-result'})\n",
    "\n",
    "        return search_results\n",
    "\n",
    "    @staticmethod\n",
    "    def extract_product_information(search_results):\n",
    "        temporary_record = []\n",
    "        for i in range(len(search_results)):\n",
    "            item = search_results[i]\n",
    "\n",
    "            \n",
    "            atag_item = item.h2.a\n",
    "\n",
    "           \n",
    "            description = atag_item.text.strip()\n",
    "\n",
    "            \n",
    "            product_url = \"https://www.amazon.in/\" + atag_item.get('href')\n",
    "            \n",
    "            try:\n",
    "                product_review = item.i.text.strip()\n",
    "            except AttributeError:\n",
    "                product_review = \"N/A\"\n",
    "            try:\n",
    "                review_number = item.find('span', {'class': 'a-size-base'}).text\n",
    "            except AttributeError:\n",
    "                review_number = \"N/A\"    \n",
    "            product_information = (product_review, review_number, product_url)\n",
    "\n",
    "            \n",
    "            temporary_record.append(product_information)\n",
    "    \n",
    "        return temporary_record\n",
    "\n",
    "    def navigate_to_other_pages(self, product_details):\n",
    "        \n",
    "        records = []\n",
    "\n",
    "        product_url = product_details[0]\n",
    "        search_product_name = product_url[1]\n",
    "\n",
    "        print(\"\\n>> Page 1 - webpage information extracted\")\n",
    "\n",
    "        max_number_of_pages = \"(//li[@class='a-disabled'])[3]\"\n",
    "\n",
    "        number_of_pages = self.driver.find_element_by_xpath(max_number_of_pages)\n",
    "\n",
    "        for i in range(2, int(number_of_pages.text)+1):\n",
    "            \n",
    "            next_page_url = product_url+ \"&page=\" + str(i)\n",
    "            self.driver.get(next_page_url)\n",
    "\n",
    "            \n",
    "            search_results = self.extract_webpage_information()\n",
    "            temporary_record = self.extract_product_information(search_results)\n",
    "\n",
    "            extraction_information = \">> Page {} - webpage information extracted\"\n",
    "            print(extraction_information.format(i))\n",
    "\n",
    "            for j in temporary_record:\n",
    "                records.append(j)\n",
    "\n",
    "        self.driver.close()\n",
    "\n",
    "        return records\n",
    "\n",
    "    @staticmethod\n",
    "    def product_information_spreadsheet(records, product_details):\n",
    "\n",
    "        today = date.today().strftime(\"%d-%m-%Y\")\n",
    "\n",
    "        for _ in records:\n",
    "\n",
    "            searched_product = product_details[-1]\n",
    "\n",
    "            file_name = \"{}_{}.csv\".format(searched_product, today)\n",
    "            f = open(file_name, \"w\", newline='', encoding='utf-8')\n",
    "            writer = csv.writer(f)\n",
    "            writer.writerow(['Rating', 'Review Count', 'Product URL'])\n",
    "            writer.writerows(records)\n",
    "            f.close()\n",
    "\n",
    "        message = (\"\\n>> Information about the product '{}' is stored in {}\").format(searched_product, file_name)\n",
    "\n",
    "        print(message)\n",
    "\n",
    "        os.startfile(file_name)    "
   ]
  },
  {
   "cell_type": "code",
   "execution_count": 4,
   "metadata": {},
   "outputs": [
    {
     "name": "stderr",
     "output_type": "stream",
     "text": [
      "\n",
      "\n",
      "====== WebDriver manager ======\n",
      "Current google-chrome version is 90.0.4430\n",
      "Get LATEST driver version for 90.0.4430\n",
      "Driver [C:\\Users\\DELL\\.wdm\\drivers\\chromedriver\\win32\\90.0.4430.24\\chromedriver.exe] found in cache\n",
      "<ipython-input-2-7021d1f933e1>:15: DeprecationWarning: use options instead of chrome_options\n",
      "  self.driver = webdriver.Chrome(ChromeDriverManager().install(), chrome_options=opt)\n"
     ]
    },
    {
     "name": "stdout",
     "output_type": "stream",
     "text": [
      "\n",
      ">> The browser is open\n",
      ">> Enter the product to be searched: laptop\n",
      ">> Product URL:  https://www.amazon.in/s?k=laptop&ref=nb_sb_noss\n",
      "\n",
      ">> Page 1 - webpage information extracted\n",
      ">> Page 2 - webpage information extracted\n",
      ">> Page 3 - webpage information extracted\n",
      ">> Page 4 - webpage information extracted\n",
      ">> Page 5 - webpage information extracted\n",
      ">> Page 6 - webpage information extracted\n",
      ">> Page 7 - webpage information extracted\n",
      ">> Page 8 - webpage information extracted\n",
      ">> Page 9 - webpage information extracted\n",
      ">> Page 10 - webpage information extracted\n",
      ">> Page 11 - webpage information extracted\n",
      ">> Page 12 - webpage information extracted\n",
      ">> Page 13 - webpage information extracted\n",
      ">> Page 14 - webpage information extracted\n",
      ">> Page 15 - webpage information extracted\n",
      ">> Page 16 - webpage information extracted\n",
      ">> Page 17 - webpage information extracted\n",
      ">> Page 18 - webpage information extracted\n",
      ">> Page 19 - webpage information extracted\n",
      ">> Page 20 - webpage information extracted\n",
      "\n",
      ">> Information about the product 'laptop' is stored in laptop_05-06-2021.csv\n"
     ]
    }
   ],
   "source": [
    "\n",
    "if __name__ == \"__main__\":\n",
    "\n",
    "    my_amazon_bot = AmazonProductScraper()\n",
    "\n",
    "    my_amazon_bot.open_browser()\n",
    "\n",
    "    product_details = my_amazon_bot.get_product_url()\n",
    "\n",
    "    my_amazon_bot.extract_product_information(my_amazon_bot.extract_webpage_information())\n",
    "\n",
    "    navigation = my_amazon_bot.navigate_to_other_pages(product_details)\n",
    "\n",
    "    my_amazon_bot.product_information_spreadsheet(navigation, product_details)"
   ]
  },
  {
   "cell_type": "code",
   "execution_count": 12,
   "metadata": {},
   "outputs": [],
   "source": [
    "import pandas as pd\n",
    "import numpy as np"
   ]
  },
  {
   "cell_type": "code",
   "execution_count": 13,
   "metadata": {},
   "outputs": [],
   "source": [
    "df=pd.read_csv('laptop_05-06-2021.csv')"
   ]
  },
  {
   "cell_type": "code",
   "execution_count": 14,
   "metadata": {},
   "outputs": [
    {
     "data": {
      "text/html": [
       "<div>\n",
       "<style scoped>\n",
       "    .dataframe tbody tr th:only-of-type {\n",
       "        vertical-align: middle;\n",
       "    }\n",
       "\n",
       "    .dataframe tbody tr th {\n",
       "        vertical-align: top;\n",
       "    }\n",
       "\n",
       "    .dataframe thead th {\n",
       "        text-align: right;\n",
       "    }\n",
       "</style>\n",
       "<table border=\"1\" class=\"dataframe\">\n",
       "  <thead>\n",
       "    <tr style=\"text-align: right;\">\n",
       "      <th></th>\n",
       "      <th>Rating</th>\n",
       "      <th>Review Count</th>\n",
       "      <th>Product URL</th>\n",
       "    </tr>\n",
       "  </thead>\n",
       "  <tbody>\n",
       "    <tr>\n",
       "      <th>0</th>\n",
       "      <td>4.1 out of 5 stars</td>\n",
       "      <td>19</td>\n",
       "      <td>https://www.amazon.in//gp/slredirect/picassoRe...</td>\n",
       "    </tr>\n",
       "    <tr>\n",
       "      <th>1</th>\n",
       "      <td>3.6 out of 5 stars</td>\n",
       "      <td>71</td>\n",
       "      <td>https://www.amazon.in//gp/slredirect/picassoRe...</td>\n",
       "    </tr>\n",
       "    <tr>\n",
       "      <th>2</th>\n",
       "      <td>3.6 out of 5 stars</td>\n",
       "      <td>3</td>\n",
       "      <td>https://www.amazon.in//HP-245-1S5E8PA-ATHLON-3...</td>\n",
       "    </tr>\n",
       "    <tr>\n",
       "      <th>3</th>\n",
       "      <td>NaN</td>\n",
       "      <td>More Buying Choices</td>\n",
       "      <td>https://www.amazon.in//HP-Laptop-366C6PA-Ryzen...</td>\n",
       "    </tr>\n",
       "    <tr>\n",
       "      <th>4</th>\n",
       "      <td>3.8 out of 5 stars</td>\n",
       "      <td>43</td>\n",
       "      <td>https://www.amazon.in//Lenovo-10-1-inch-Touchs...</td>\n",
       "    </tr>\n",
       "  </tbody>\n",
       "</table>\n",
       "</div>"
      ],
      "text/plain": [
       "               Rating         Review Count  \\\n",
       "0  4.1 out of 5 stars                   19   \n",
       "1  3.6 out of 5 stars                   71   \n",
       "2  3.6 out of 5 stars                    3   \n",
       "3                 NaN  More Buying Choices   \n",
       "4  3.8 out of 5 stars                   43   \n",
       "\n",
       "                                         Product URL  \n",
       "0  https://www.amazon.in//gp/slredirect/picassoRe...  \n",
       "1  https://www.amazon.in//gp/slredirect/picassoRe...  \n",
       "2  https://www.amazon.in//HP-245-1S5E8PA-ATHLON-3...  \n",
       "3  https://www.amazon.in//HP-Laptop-366C6PA-Ryzen...  \n",
       "4  https://www.amazon.in//Lenovo-10-1-inch-Touchs...  "
      ]
     },
     "execution_count": 14,
     "metadata": {},
     "output_type": "execute_result"
    }
   ],
   "source": [
    "df.head()"
   ]
  },
  {
   "cell_type": "code",
   "execution_count": 15,
   "metadata": {},
   "outputs": [
    {
     "data": {
      "text/plain": [
       "(321, 3)"
      ]
     },
     "execution_count": 15,
     "metadata": {},
     "output_type": "execute_result"
    }
   ],
   "source": [
    "df.shape\n"
   ]
  },
  {
   "cell_type": "code",
   "execution_count": 16,
   "metadata": {},
   "outputs": [
    {
     "name": "stdout",
     "output_type": "stream",
     "text": [
      "<class 'pandas.core.frame.DataFrame'>\n",
      "RangeIndex: 321 entries, 0 to 320\n",
      "Data columns (total 3 columns):\n",
      " #   Column        Non-Null Count  Dtype \n",
      "---  ------        --------------  ----- \n",
      " 0   Rating        253 non-null    object\n",
      " 1   Review Count  254 non-null    object\n",
      " 2   Product URL   321 non-null    object\n",
      "dtypes: object(3)\n",
      "memory usage: 7.6+ KB\n"
     ]
    }
   ],
   "source": [
    "df.info()"
   ]
  },
  {
   "cell_type": "code",
   "execution_count": 17,
   "metadata": {},
   "outputs": [
    {
     "data": {
      "text/plain": [
       "Rating          68\n",
       "Review Count    67\n",
       "Product URL      0\n",
       "dtype: int64"
      ]
     },
     "execution_count": 17,
     "metadata": {},
     "output_type": "execute_result"
    }
   ],
   "source": [
    "df.isnull().sum()"
   ]
  },
  {
   "cell_type": "code",
   "execution_count": 18,
   "metadata": {},
   "outputs": [],
   "source": [
    "df=df.drop(columns=[\"Product URL\"], axis=1)"
   ]
  },
  {
   "cell_type": "code",
   "execution_count": 19,
   "metadata": {},
   "outputs": [
    {
     "data": {
      "text/plain": [
       "Rating          68\n",
       "Review Count    67\n",
       "dtype: int64"
      ]
     },
     "execution_count": 19,
     "metadata": {},
     "output_type": "execute_result"
    }
   ],
   "source": [
    "df.isnull().sum()"
   ]
  },
  {
   "cell_type": "code",
   "execution_count": 20,
   "metadata": {},
   "outputs": [],
   "source": [
    "df['Rating']=df['Rating'].fillna(df['Rating'].mode()[0])\n",
    "df['Review Count']=df['Review Count'].fillna(df['Review Count'].mode()[0])"
   ]
  },
  {
   "cell_type": "code",
   "execution_count": 21,
   "metadata": {},
   "outputs": [
    {
     "data": {
      "text/plain": [
       "Rating          0\n",
       "Review Count    0\n",
       "dtype: int64"
      ]
     },
     "execution_count": 21,
     "metadata": {},
     "output_type": "execute_result"
    }
   ],
   "source": [
    "df.isnull().sum()"
   ]
  },
  {
   "cell_type": "code",
   "execution_count": 23,
   "metadata": {},
   "outputs": [
    {
     "data": {
      "text/plain": [
       "<matplotlib.axes._subplots.AxesSubplot at 0x1fb57e96400>"
      ]
     },
     "execution_count": 23,
     "metadata": {},
     "output_type": "execute_result"
    },
    {
     "data": {
      "image/png": "[encoded data removed]",
      "text/plain": [
       "<Figure size 432x288 with 1 Axes>"
      ]
     },
     "metadata": {
      "needs_background": "light"
     },
     "output_type": "display_data"
    }
   ],
   "source": [
    "import matplotlib.pyplot as plt\n",
    "import seaborn as sns\n",
    "import warnings\n",
    "warnings.filterwarnings('ignore')\n",
    "sns.heatmap(df.isnull(),yticklabels=False,cbar=False,cmap='coolwarm')"
   ]
  },
  {
   "cell_type": "code",
   "execution_count": 24,
   "metadata": {},
   "outputs": [
    {
     "data": {
      "text/html": [
       "<div>\n",
       "<style scoped>\n",
       "    .dataframe tbody tr th:only-of-type {\n",
       "        vertical-align: middle;\n",
       "    }\n",
       "\n",
       "    .dataframe tbody tr th {\n",
       "        vertical-align: top;\n",
       "    }\n",
       "\n",
       "    .dataframe thead th {\n",
       "        text-align: right;\n",
       "    }\n",
       "</style>\n",
       "<table border=\"1\" class=\"dataframe\">\n",
       "  <thead>\n",
       "    <tr style=\"text-align: right;\">\n",
       "      <th></th>\n",
       "      <th>Rating</th>\n",
       "      <th>Review Count</th>\n",
       "    </tr>\n",
       "  </thead>\n",
       "  <tbody>\n",
       "    <tr>\n",
       "      <th>count</th>\n",
       "      <td>321</td>\n",
       "      <td>321</td>\n",
       "    </tr>\n",
       "    <tr>\n",
       "      <th>unique</th>\n",
       "      <td>31</td>\n",
       "      <td>123</td>\n",
       "    </tr>\n",
       "    <tr>\n",
       "      <th>top</th>\n",
       "      <td>4.4 out of 5 stars</td>\n",
       "      <td>1</td>\n",
       "    </tr>\n",
       "    <tr>\n",
       "      <th>freq</th>\n",
       "      <td>94</td>\n",
       "      <td>78</td>\n",
       "    </tr>\n",
       "  </tbody>\n",
       "</table>\n",
       "</div>"
      ],
      "text/plain": [
       "                    Rating Review Count\n",
       "count                  321          321\n",
       "unique                  31          123\n",
       "top     4.4 out of 5 stars            1\n",
       "freq                    94           78"
      ]
     },
     "execution_count": 24,
     "metadata": {},
     "output_type": "execute_result"
    }
   ],
   "source": [
    "df.describe()"
   ]
  },
  {
   "cell_type": "code",
   "execution_count": 33,
   "metadata": {},
   "outputs": [],
   "source": [
    "from sklearn.preprocessing import LabelEncoder\n",
    "\n",
    "le=LabelEncoder()\n",
    "\n",
    "for column in df.columns:\n",
    "    if df[column].dtype==np.number:\n",
    "        continue\n",
    "    df[column]=le.fit_transform(df[column])"
   ]
  },
  {
   "cell_type": "code",
   "execution_count": 34,
   "metadata": {},
   "outputs": [
    {
     "data": {
      "text/html": [
       "<div>\n",
       "<style scoped>\n",
       "    .dataframe tbody tr th:only-of-type {\n",
       "        vertical-align: middle;\n",
       "    }\n",
       "\n",
       "    .dataframe tbody tr th {\n",
       "        vertical-align: top;\n",
       "    }\n",
       "\n",
       "    .dataframe thead th {\n",
       "        text-align: right;\n",
       "    }\n",
       "</style>\n",
       "<table border=\"1\" class=\"dataframe\">\n",
       "  <thead>\n",
       "    <tr style=\"text-align: right;\">\n",
       "      <th></th>\n",
       "      <th>Rating</th>\n",
       "      <th>Review Count</th>\n",
       "    </tr>\n",
       "  </thead>\n",
       "  <tbody>\n",
       "    <tr>\n",
       "      <th>Rating</th>\n",
       "      <td>1.000000</td>\n",
       "      <td>-0.200388</td>\n",
       "    </tr>\n",
       "    <tr>\n",
       "      <th>Review Count</th>\n",
       "      <td>-0.200388</td>\n",
       "      <td>1.000000</td>\n",
       "    </tr>\n",
       "  </tbody>\n",
       "</table>\n",
       "</div>"
      ],
      "text/plain": [
       "                Rating  Review Count\n",
       "Rating        1.000000     -0.200388\n",
       "Review Count -0.200388      1.000000"
      ]
     },
     "execution_count": 34,
     "metadata": {},
     "output_type": "execute_result"
    }
   ],
   "source": [
    "df_cor=df.corr()\n",
    "df_cor"
   ]
  },
  {
   "cell_type": "code",
   "execution_count": 35,
   "metadata": {},
   "outputs": [
    {
     "data": {
      "text/plain": [
       "Rating         -1.082332\n",
       "Review Count    0.279433\n",
       "dtype: float64"
      ]
     },
     "execution_count": 35,
     "metadata": {},
     "output_type": "execute_result"
    }
   ],
   "source": [
    "df.skew()"
   ]
  },
  {
   "cell_type": "code",
   "execution_count": 37,
   "metadata": {},
   "outputs": [
    {
     "data": {
      "image/png": "[encoded data removed]",
      "text/plain": [
       "<Figure size 360x360 with 2 Axes>"
      ]
     },
     "metadata": {
      "needs_background": "light"
     },
     "output_type": "display_data"
    }
   ],
   "source": [
    "df.hist(figsize=(5,5))\n",
    "plt.show()"
   ]
  },
  {
   "cell_type": "code",
   "execution_count": 38,
   "metadata": {},
   "outputs": [
    {
     "data": {
      "text/plain": [
       "-1.077267778127409"
      ]
     },
     "execution_count": 38,
     "metadata": {},
     "output_type": "execute_result"
    }
   ],
   "source": [
    "from scipy.stats import skew\n",
    "skew(df['Rating'].dropna())"
   ]
  },
  {
   "cell_type": "code",
   "execution_count": 40,
   "metadata": {},
   "outputs": [
    {
     "name": "stdout",
     "output_type": "stream",
     "text": [
      "null hyp of normality is accepted\n"
     ]
    }
   ],
   "source": [
    "from scipy import stats\n",
    "p_value=stats.shapiro(df['Rating'].dropna())[1]\n",
    "if p_value >= 0.05:\n",
    "    print('null hyp of normality is rejected')\n",
    "else:\n",
    "    print('null hyp of normality is accepted')\n"
   ]
  },
  {
   "cell_type": "code",
   "execution_count": 43,
   "metadata": {},
   "outputs": [
    {
     "data": {
      "text/html": [
       "<div>\n",
       "<style scoped>\n",
       "    .dataframe tbody tr th:only-of-type {\n",
       "        vertical-align: middle;\n",
       "    }\n",
       "\n",
       "    .dataframe tbody tr th {\n",
       "        vertical-align: top;\n",
       "    }\n",
       "\n",
       "    .dataframe thead th {\n",
       "        text-align: right;\n",
       "    }\n",
       "</style>\n",
       "<table border=\"1\" class=\"dataframe\">\n",
       "  <thead>\n",
       "    <tr style=\"text-align: right;\">\n",
       "      <th></th>\n",
       "      <th>Rating</th>\n",
       "    </tr>\n",
       "  </thead>\n",
       "  <tbody>\n",
       "    <tr>\n",
       "      <th>0</th>\n",
       "      <td>22</td>\n",
       "    </tr>\n",
       "    <tr>\n",
       "      <th>1</th>\n",
       "      <td>17</td>\n",
       "    </tr>\n",
       "    <tr>\n",
       "      <th>2</th>\n",
       "      <td>17</td>\n",
       "    </tr>\n",
       "    <tr>\n",
       "      <th>3</th>\n",
       "      <td>25</td>\n",
       "    </tr>\n",
       "    <tr>\n",
       "      <th>4</th>\n",
       "      <td>19</td>\n",
       "    </tr>\n",
       "  </tbody>\n",
       "</table>\n",
       "</div>"
      ],
      "text/plain": [
       "   Rating\n",
       "0      22\n",
       "1      17\n",
       "2      17\n",
       "3      25\n",
       "4      19"
      ]
     },
     "execution_count": 43,
     "metadata": {},
     "output_type": "execute_result"
    }
   ],
   "source": [
    "x=df.iloc[:,0:-1]\n",
    "x.head()"
   ]
  },
  {
   "cell_type": "code",
   "execution_count": 45,
   "metadata": {},
   "outputs": [
    {
     "data": {
      "text/plain": [
       "0     32\n",
       "1    104\n",
       "2     58\n",
       "3    122\n",
       "4     75\n",
       "Name: Review Count, dtype: int64"
      ]
     },
     "execution_count": 45,
     "metadata": {},
     "output_type": "execute_result"
    }
   ],
   "source": [
    "y=df.iloc[:,-1]\n",
    "y.head()"
   ]
  },
  {
   "cell_type": "code",
   "execution_count": 46,
   "metadata": {},
   "outputs": [
    {
     "data": {
      "text/plain": [
       "(321, 1)"
      ]
     },
     "execution_count": 46,
     "metadata": {},
     "output_type": "execute_result"
    }
   ],
   "source": [
    "x.shape"
   ]
  },
  {
   "cell_type": "code",
   "execution_count": 47,
   "metadata": {},
   "outputs": [
    {
     "data": {
      "text/plain": [
       "(321,)"
      ]
     },
     "execution_count": 47,
     "metadata": {},
     "output_type": "execute_result"
    }
   ],
   "source": [
    "y.shape"
   ]
  },
  {
   "cell_type": "code",
   "execution_count": 48,
   "metadata": {},
   "outputs": [],
   "source": [
    "from sklearn.model_selection import train_test_split\n",
    "\n",
    "x_train,x_test,y_train,y_test=train_test_split(x,y,test_size=.33,random_state=42)"
   ]
  },
  {
   "cell_type": "code",
   "execution_count": 49,
   "metadata": {},
   "outputs": [
    {
     "data": {
      "text/plain": [
       "(215, 1)"
      ]
     },
     "execution_count": 49,
     "metadata": {},
     "output_type": "execute_result"
    }
   ],
   "source": [
    "x_train.shape"
   ]
  },
  {
   "cell_type": "code",
   "execution_count": 50,
   "metadata": {},
   "outputs": [
    {
     "data": {
      "text/plain": [
       "(215,)"
      ]
     },
     "execution_count": 50,
     "metadata": {},
     "output_type": "execute_result"
    }
   ],
   "source": [
    "y_train.shape"
   ]
  },
  {
   "cell_type": "code",
   "execution_count": 51,
   "metadata": {},
   "outputs": [
    {
     "data": {
      "text/plain": [
       "(106, 1)"
      ]
     },
     "execution_count": 51,
     "metadata": {},
     "output_type": "execute_result"
    }
   ],
   "source": [
    "x_test.shape"
   ]
  },
  {
   "cell_type": "code",
   "execution_count": 52,
   "metadata": {},
   "outputs": [
    {
     "data": {
      "text/plain": [
       "(106,)"
      ]
     },
     "execution_count": 52,
     "metadata": {},
     "output_type": "execute_result"
    }
   ],
   "source": [
    "y_test.shape"
   ]
  },
  {
   "cell_type": "code",
   "execution_count": 53,
   "metadata": {},
   "outputs": [],
   "source": [
    "from sklearn.linear_model import LinearRegression\n",
    "lr=LinearRegression()"
   ]
  },
  {
   "cell_type": "code",
   "execution_count": 54,
   "metadata": {},
   "outputs": [
    {
     "data": {
      "text/plain": [
       "LinearRegression()"
      ]
     },
     "execution_count": 54,
     "metadata": {},
     "output_type": "execute_result"
    }
   ],
   "source": [
    "lr.fit(x_train,y_train)"
   ]
  },
  {
   "cell_type": "code",
   "execution_count": 55,
   "metadata": {},
   "outputs": [
    {
     "data": {
      "text/plain": [
       "array([-1.11757421])"
      ]
     },
     "execution_count": 55,
     "metadata": {},
     "output_type": "execute_result"
    }
   ],
   "source": [
    "lr.coef_"
   ]
  },
  {
   "cell_type": "code",
   "execution_count": 56,
   "metadata": {},
   "outputs": [
    {
     "data": {
      "text/plain": [
       "66.6663702088593"
      ]
     },
     "execution_count": 56,
     "metadata": {},
     "output_type": "execute_result"
    }
   ],
   "source": [
    "lr.intercept_"
   ]
  },
  {
   "cell_type": "code",
   "execution_count": 57,
   "metadata": {},
   "outputs": [
    {
     "data": {
      "text/plain": [
       "0.0343360121898042"
      ]
     },
     "execution_count": 57,
     "metadata": {},
     "output_type": "execute_result"
    }
   ],
   "source": [
    "lr.score(x_train,y_train)\n"
   ]
  },
  {
   "cell_type": "code",
   "execution_count": 58,
   "metadata": {},
   "outputs": [
    {
     "name": "stdout",
     "output_type": "stream",
     "text": [
      "Predicted Rating: [39.84458917 43.1973118  54.3730539  43.1973118  42.07973759 46.55003443\n",
      " 52.13790548 52.13790548 39.84458917 38.72701496 44.31488601 54.3730539\n",
      " 47.66760864 46.55003443 38.72701496 47.66760864 38.72701496 44.31488601\n",
      " 46.55003443 51.02033127 44.31488601 46.55003443 38.72701496 56.60820232\n",
      " 45.43246022 37.60944075 49.90275706 51.02033127 49.90275706 51.02033127\n",
      " 62.19607337 61.07849916 46.55003443 46.55003443 38.72701496 38.72701496\n",
      " 45.43246022 38.72701496 65.548796   38.72701496 36.49186654 42.07973759\n",
      " 38.72701496 47.66760864 33.13914391 38.72701496 47.66760864 48.78518285\n",
      " 38.72701496 33.13914391 46.55003443 40.96216338 52.13790548 46.55003443\n",
      " 39.84458917 33.13914391 38.72701496 38.72701496 38.72701496 36.49186654\n",
      " 44.31488601 47.66760864 38.72701496 35.37429233 38.72701496 43.1973118\n",
      " 38.72701496 46.55003443 39.84458917 48.78518285 39.84458917 38.72701496\n",
      " 38.72701496 38.72701496 51.02033127 37.60944075 55.49062811 40.96216338\n",
      " 44.31488601 49.90275706 47.66760864 45.43246022 43.1973118  40.96216338\n",
      " 37.60944075 38.72701496 38.72701496 47.66760864 47.66760864 44.31488601\n",
      " 38.72701496 38.72701496 52.13790548 38.72701496 48.78518285 44.31488601\n",
      " 38.72701496 38.72701496 38.72701496 39.84458917 40.96216338 45.43246022\n",
      " 42.07973759 46.55003443 38.72701496 38.72701496]\n",
      "actual Rating 173      6\n",
      "132     77\n",
      "197     34\n",
      "9       91\n",
      "104    116\n",
      "      ... \n",
      "222     26\n",
      "307     61\n",
      "183     57\n",
      "152      0\n",
      "140      0\n",
      "Name: Review Count, Length: 106, dtype: int64\n"
     ]
    }
   ],
   "source": [
    "label=lr.predict(x_test)\n",
    "print('Predicted Rating:',label)\n",
    "print('actual Rating',y_test)"
   ]
  },
  {
   "cell_type": "code",
   "execution_count": 59,
   "metadata": {},
   "outputs": [
    {
     "name": "stdout",
     "output_type": "stream",
     "text": [
      "error:\n",
      "Mean absolute error: 36.54933487354261\n",
      "Mean squared error: 1702.3403705368519\n"
     ]
    }
   ],
   "source": [
    "from sklearn.metrics import mean_absolute_error,mean_squared_error\n",
    "print('error:')\n",
    "print('Mean absolute error:',mean_absolute_error(y_test,label))\n",
    "print('Mean squared error:',mean_squared_error(y_test,label))\n"
   ]
  },
  {
   "cell_type": "code",
   "execution_count": 60,
   "metadata": {},
   "outputs": [
    {
     "name": "stdout",
     "output_type": "stream",
     "text": [
      "0.016306637998919737\n"
     ]
    }
   ],
   "source": [
    "from sklearn.metrics import r2_score\n",
    "print(r2_score(y_test,label))"
   ]
  },
  {
   "cell_type": "code",
   "execution_count": 61,
   "metadata": {},
   "outputs": [
    {
     "data": {
      "text/plain": [
       "-0.00503611926246752"
      ]
     },
     "execution_count": 61,
     "metadata": {},
     "output_type": "execute_result"
    }
   ],
   "source": [
    "from sklearn.model_selection import cross_val_score\n",
    "from sklearn import linear_model\n",
    "cross_val_score(linear_model.LinearRegression(),x,y,cv=5,scoring='r2').mean()"
   ]
  },
  {
   "cell_type": "code",
   "execution_count": 62,
   "metadata": {},
   "outputs": [],
   "source": [
    "from sklearn.linear_model import LinearRegression,Lasso,Ridge,ElasticNet\n",
    "from sklearn.tree import DecisionTreeRegressor"
   ]
  },
  {
   "cell_type": "code",
   "execution_count": 63,
   "metadata": {},
   "outputs": [
    {
     "name": "stdout",
     "output_type": "stream",
     "text": [
      "Score of LinearRegression() is: 0.0343360121898042\n",
      "Error:\n",
      "Mean absolute error: 36.54933487354261\n",
      "Mean squared error: 1702.3403705368519\n",
      "r2_score: 0.016306637998919737\n",
      "***************************************************************\n",
      "\n",
      "\n",
      "Score of DecisionTreeRegressor() is: 0.278362882365526\n",
      "Error:\n",
      "Mean absolute error: 31.995544569424286\n",
      "Mean squared error: 1482.5717234070148\n",
      "r2_score: 0.14329943162538017\n",
      "***************************************************************\n",
      "\n",
      "\n"
     ]
    }
   ],
   "source": [
    "model=[LinearRegression(),DecisionTreeRegressor()]\n",
    "for m in model:\n",
    "    m.fit(x_train,y_train)\n",
    "    print('Score of',m,'is:',m.score(x_train,y_train))\n",
    "    predm=m.predict(x_test)\n",
    "    print('Error:')\n",
    "    print('Mean absolute error:',mean_absolute_error(y_test,predm))\n",
    "    print('Mean squared error:',mean_squared_error(y_test,predm))\n",
    "    print('r2_score:',r2_score(y_test,predm))\n",
    "    print('***************************************************************')\n",
    "    print('\\n')"
   ]
  },
  {
   "cell_type": "code",
   "execution_count": 64,
   "metadata": {},
   "outputs": [
    {
     "name": "stdout",
     "output_type": "stream",
     "text": [
      "Score of Ridge() is: 0.03433601174190004\n",
      "Error:\n",
      "Mean absolute error: 36.549356627026235\n",
      "Mean squared error: 1702.3455866074848\n",
      "r2_score: 0.016303623904825426\n",
      "***************************************************************\n",
      "\n",
      "\n",
      "Score of ElasticNet() is: 0.03431787270850295\n",
      "Error:\n",
      "Mean absolute error: 36.5537126015214\n",
      "Mean squared error: 1703.4101970097383\n",
      "r2_score: 0.015688441298609135\n",
      "***************************************************************\n",
      "\n",
      "\n"
     ]
    }
   ],
   "source": [
    "model=[Ridge(),ElasticNet()]\n",
    "for m in model:\n",
    "    m.fit(x_train,y_train)\n",
    "    print('Score of',m,'is:',m.score(x_train,y_train))\n",
    "    predm=m.predict(x_test)\n",
    "    print('Error:')\n",
    "    print('Mean absolute error:',mean_absolute_error(y_test,predm))\n",
    "    print('Mean squared error:',mean_squared_error(y_test,predm))\n",
    "    print('r2_score:',r2_score(y_test,predm))\n",
    "    print('***************************************************************')\n",
    "    print('\\n')"
   ]
  },
  {
   "cell_type": "code",
   "execution_count": 65,
   "metadata": {},
   "outputs": [
    {
     "name": "stdout",
     "output_type": "stream",
     "text": [
      "Score: 0.2725392676103907\n",
      "\n",
      "\n",
      "Mean absolute error: 31.756331735147775\n",
      "Mean squared error: 1462.511862063922\n",
      "\n",
      "\n",
      "r2_score: 0.1548909751189057\n"
     ]
    }
   ],
   "source": [
    "from sklearn.ensemble import RandomForestRegressor\n",
    "rf=RandomForestRegressor(n_estimators=20,random_state=59)\n",
    "rf.fit(x_train,y_train)\n",
    "print('Score:',rf.score(x_train,y_train))\n",
    "predrf=rf.predict(x_test)\n",
    "print('\\n')\n",
    "print('Mean absolute error:',mean_absolute_error(y_test,predrf)) \n",
    "print('Mean squared error:',mean_squared_error(y_test,predrf))\n",
    "print('\\n')\n",
    "print('r2_score:',r2_score(y_test,predrf))"
   ]
  },
  {
   "cell_type": "code",
   "execution_count": 66,
   "metadata": {},
   "outputs": [
    {
     "name": "stdout",
     "output_type": "stream",
     "text": [
      "Score of Lasso() is: 0.034319431280706914\n",
      "Error:\n",
      "Mean absolute error: 36.55352030765051\n",
      "Mean squared error: 1703.3623547171878\n",
      "r2_score: 0.015716086854350775\n",
      "***************************************************************\n",
      "\n",
      "\n"
     ]
    }
   ],
   "source": [
    "from sklearn.linear_model import Lasso\n",
    "model=[Lasso()]\n",
    "for m in model:\n",
    "    m.fit(x_train,y_train)\n",
    "    print('Score of',m,'is:',m.score(x_train,y_train))\n",
    "    predm=m.predict(x_test)\n",
    "    print('Error:')\n",
    "    print('Mean absolute error:',mean_absolute_error(y_test,predm))\n",
    "    print('Mean squared error:',mean_squared_error(y_test,predm))\n",
    "    print('r2_score:',r2_score(y_test,predm))\n",
    "    print('***************************************************************')\n",
    "    print('\\n')"
   ]
  },
  {
   "cell_type": "code",
   "execution_count": 67,
   "metadata": {},
   "outputs": [
    {
     "name": "stdout",
     "output_type": "stream",
     "text": [
      "Score: 0.033891722257489154\n",
      "\n",
      "\n",
      "Mean absolute error: 36.48806100578563\n",
      "Mean squared error: 1708.1541302117691\n",
      "\n",
      "\n",
      "r2_score: 0.012947170703503375\n"
     ]
    }
   ],
   "source": [
    "from sklearn.ensemble import AdaBoostRegressor\n",
    "lasso=Lasso()\n",
    "\n",
    "adb=AdaBoostRegressor(base_estimator=lasso,n_estimators=20,learning_rate=0.1,random_state=59)\n",
    "adb.fit(x_train,y_train)\n",
    "print('Score:',adb.score(x_train,y_train))\n",
    "predadb=adb.predict(x_test)\n",
    "print('\\n')\n",
    "print('Mean absolute error:',mean_absolute_error(y_test,predadb)) \n",
    "print('Mean squared error:',mean_squared_error(y_test,predadb))\n",
    "print('\\n')\n",
    "print('r2_score:',r2_score(y_test,predadb))"
   ]
  },
  {
   "cell_type": "code",
   "execution_count": 69,
   "metadata": {},
   "outputs": [
    {
     "data": {
      "text/plain": [
       "['df.csv']"
      ]
     },
     "execution_count": 69,
     "metadata": {},
     "output_type": "execute_result"
    }
   ],
   "source": [
    "import joblib\n",
    "joblib.dump(rf,'df.csv')"
   ]
  },
  {
   "cell_type": "code",
   "execution_count": null,
   "metadata": {},
   "outputs": [],
   "source": []
  }
 ],
 "metadata": {
  "kernelspec": {
   "display_name": "Python 3",
   "language": "python",
   "name": "python3"
  },
  "language_info": {
   "codemirror_mode": {
    "name": "ipython",
    "version": 3
   },
   "file_extension": ".py",
   "mimetype": "text/x-python",
   "name": "python",
   "nbconvert_exporter": "python",
   "pygments_lexer": "ipython3",
   "version": "3.8.3"
  }
 },
 "nbformat": 4,
 "nbformat_minor": 4
}
